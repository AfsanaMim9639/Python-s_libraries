{
 "cells": [
  {
   "cell_type": "code",
   "execution_count": 5,
   "id": "c43df753-ad50-444b-98cd-37a8214811c2",
   "metadata": {},
   "outputs": [
    {
     "name": "stdout",
     "output_type": "stream",
     "text": [
      "[0. 0. 0. 0.]\n",
      "\n",
      "[[0. 0. 0. 0.]\n",
      " [0. 0. 0. 0.]\n",
      " [0. 0. 0. 0.]]\n"
     ]
    }
   ],
   "source": [
    "#ZERO\n",
    "import numpy as np\n",
    "\n",
    "arr_zero = np.zeros(4)\n",
    "arr_zero1 = np.zeros((3,4))\n",
    "\n",
    "print(arr_zero)\n",
    "print()\n",
    "print(arr_zero1)"
   ]
  },
  {
   "cell_type": "code",
   "execution_count": 6,
   "id": "1e6bc716-08a2-4587-a23b-0be312f75793",
   "metadata": {},
   "outputs": [
    {
     "name": "stdout",
     "output_type": "stream",
     "text": [
      "[1. 1. 1. 1.]\n",
      "\n",
      "[[1. 1. 1. 1.]\n",
      " [1. 1. 1. 1.]\n",
      " [1. 1. 1. 1.]]\n"
     ]
    }
   ],
   "source": [
    "#ONEs\n",
    "\n",
    "arr_one = np.ones(4)\n",
    "arr_one1 = np.ones((3,4))\n",
    "\n",
    "print(arr_one)\n",
    "print()\n",
    "print(arr_one1)"
   ]
  },
  {
   "cell_type": "code",
   "execution_count": 7,
   "id": "dd2f2b37-1ee1-42e5-a50f-791efe28ffe7",
   "metadata": {},
   "outputs": [
    {
     "name": "stdout",
     "output_type": "stream",
     "text": [
      "[1. 1. 1. 1.]\n"
     ]
    }
   ],
   "source": [
    "#EMPTY\n",
    "arr = np.empty(4)\n",
    "print(arr)"
   ]
  },
  {
   "cell_type": "code",
   "execution_count": 9,
   "id": "fce93864-d557-4073-8c87-28173f3a477d",
   "metadata": {},
   "outputs": [
    {
     "name": "stdout",
     "output_type": "stream",
     "text": [
      "[0 1 2 3]\n"
     ]
    }
   ],
   "source": [
    "#RANGE\n",
    "arr_ran = np.arange(4)\n",
    "print(arr_ran)"
   ]
  },
  {
   "cell_type": "code",
   "execution_count": 10,
   "id": "a331276f-9df8-4ca8-a0fd-0bca177125d5",
   "metadata": {},
   "outputs": [
    {
     "name": "stdout",
     "output_type": "stream",
     "text": [
      "[[1. 0. 0. 0.]\n",
      " [0. 1. 0. 0.]\n",
      " [0. 0. 1. 0.]\n",
      " [0. 0. 0. 1.]]\n"
     ]
    }
   ],
   "source": [
    "#DIAGONAL\n",
    "arr_dia = np.eye(4)\n",
    "print(arr_dia)"
   ]
  },
  {
   "cell_type": "code",
   "execution_count": 11,
   "id": "a5723fff-e831-4711-9374-bceffb446209",
   "metadata": {},
   "outputs": [
    {
     "name": "stdout",
     "output_type": "stream",
     "text": [
      "[ 1.    3.25  5.5   7.75 10.  ]\n"
     ]
    }
   ],
   "source": [
    "#LIN-SAPCE ARRAY\n",
    "arr_lin = np.linspace(1,10, num=5)\n",
    "print(arr_lin)"
   ]
  },
  {
   "cell_type": "code",
   "execution_count": null,
   "id": "154d41a1-c2fa-4a04-a3c2-22cbb073b14e",
   "metadata": {},
   "outputs": [],
   "source": []
  }
 ],
 "metadata": {
  "kernelspec": {
   "display_name": "Python 3 (ipykernel)",
   "language": "python",
   "name": "python3"
  },
  "language_info": {
   "codemirror_mode": {
    "name": "ipython",
    "version": 3
   },
   "file_extension": ".py",
   "mimetype": "text/x-python",
   "name": "python",
   "nbconvert_exporter": "python",
   "pygments_lexer": "ipython3",
   "version": "3.12.3"
  }
 },
 "nbformat": 4,
 "nbformat_minor": 5
}
