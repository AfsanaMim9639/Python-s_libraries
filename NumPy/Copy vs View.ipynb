{
 "cells": [
  {
   "cell_type": "code",
   "execution_count": 2,
   "id": "c42e6d24-bca4-4f20-bc9d-4f66f4bdbfa1",
   "metadata": {},
   "outputs": [
    {
     "name": "stdout",
     "output_type": "stream",
     "text": [
      "Var :  [1 2 3 4]\n",
      "Copy :  [1 2 3 4]\n"
     ]
    }
   ],
   "source": [
    "import numpy as np\n",
    "var = np.array([1,2,3,4])\n",
    "\n",
    "co = var.copy()\n",
    "\n",
    "print(\"Var : \",var)\n",
    "print(\"Copy : \", co)"
   ]
  },
  {
   "cell_type": "code",
   "execution_count": 5,
   "id": "6784e390-d990-4949-a6a1-e50803a50c16",
   "metadata": {},
   "outputs": [
    {
     "name": "stdout",
     "output_type": "stream",
     "text": [
      "X :  [ 2 40  4  8]\n",
      "View :  [ 2 40  4  8]\n"
     ]
    }
   ],
   "source": [
    "x = np.array([2,3,4,8])\n",
    "\n",
    "vi = x.view()\n",
    "\n",
    "x[1] = 40\n",
    "print(\"X : \",x)\n",
    "print(\"View : \", vi)"
   ]
  },
  {
   "cell_type": "code",
   "execution_count": null,
   "id": "81d1e28f-dce4-45c5-bc78-cb360943a761",
   "metadata": {},
   "outputs": [],
   "source": []
  }
 ],
 "metadata": {
  "kernelspec": {
   "display_name": "Python 3 (ipykernel)",
   "language": "python",
   "name": "python3"
  },
  "language_info": {
   "codemirror_mode": {
    "name": "ipython",
    "version": 3
   },
   "file_extension": ".py",
   "mimetype": "text/x-python",
   "name": "python",
   "nbconvert_exporter": "python",
   "pygments_lexer": "ipython3",
   "version": "3.12.3"
  }
 },
 "nbformat": 4,
 "nbformat_minor": 5
}
