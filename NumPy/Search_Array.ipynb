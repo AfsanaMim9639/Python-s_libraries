{
 "cells": [
  {
   "cell_type": "code",
   "execution_count": 3,
   "id": "fd073315-c2d5-46f9-801c-e23a04ad5df8",
   "metadata": {},
   "outputs": [
    {
     "name": "stdout",
     "output_type": "stream",
     "text": [
      "(array([1, 3, 5], dtype=int64),)\n"
     ]
    }
   ],
   "source": [
    "import numpy as np\n",
    "\n",
    "var = np.array([1, 2, 3, 4, 5, 6,7,8])\n",
    "\n",
    "x = np.where((var%2) == 0)\n",
    "print(x)"
   ]
  },
  {
   "cell_type": "code",
   "execution_count": 11,
   "id": "e75ea8d4-c5a0-4dc3-bd19-37ffcfbadaa6",
   "metadata": {},
   "outputs": [
    {
     "name": "stdout",
     "output_type": "stream",
     "text": [
      "[8 8 8]\n"
     ]
    }
   ],
   "source": [
    "var2 = np.array([1, 2, 3, 4, 5, 6,7,8])\n",
    "\n",
    "x2 = np.searchsorted(var2,[9, 10,11], side= \"right\")\n",
    "print(x2)"
   ]
  },
  {
   "cell_type": "code",
   "execution_count": 13,
   "id": "cebfeab9-36a2-495a-8278-49d1d82060ba",
   "metadata": {},
   "outputs": [
    {
     "name": "stdout",
     "output_type": "stream",
     "text": [
      "[1 2 3 4 5 6 7 7 8 8 9]\n"
     ]
    }
   ],
   "source": [
    "#Sorted Array\n",
    "var_sort = np.array([1, 2, 3, 7,8,4, 9,5, 6,7,8])\n",
    "\n",
    "x3 = np.sort(var_sort)\n",
    "print(x3)"
   ]
  },
  {
   "cell_type": "code",
   "execution_count": 15,
   "id": "71753f66-d198-47c4-b465-af6ad0d6617b",
   "metadata": {},
   "outputs": [
    {
     "name": "stdout",
     "output_type": "stream",
     "text": [
      "[[ 1  2  3  4  5  7  8  9]\n",
      " [ 5  5  6  6  7  7  9 43]]\n"
     ]
    }
   ],
   "source": [
    "var_sort2 = np.array([[1, 2, 3, 7,8,4, 9,5], [5,5,6,43,6,7,7,9]])\n",
    "\n",
    "x4 = np.sort(var_sort2)\n",
    "print(x4)"
   ]
  },
  {
   "cell_type": "code",
   "execution_count": 17,
   "id": "56e28cb7-d948-4e4d-9af6-d2dece86eb13",
   "metadata": {},
   "outputs": [
    {
     "name": "stdout",
     "output_type": "stream",
     "text": [
      "['s' 'u']\n"
     ]
    }
   ],
   "source": [
    "#Filter Function\n",
    "var_filt = np.array([\"s\", \"d\", \"b\", \"u\"])\n",
    "f = [True, False, False, True]\n",
    "\n",
    "new_a = var_filt[f]\n",
    "print(new_a)"
   ]
  },
  {
   "cell_type": "code",
   "execution_count": null,
   "id": "d2c9e194-ae3b-4bc3-b5c9-98df481dea20",
   "metadata": {},
   "outputs": [],
   "source": []
  }
 ],
 "metadata": {
  "kernelspec": {
   "display_name": "Python 3 (ipykernel)",
   "language": "python",
   "name": "python3"
  },
  "language_info": {
   "codemirror_mode": {
    "name": "ipython",
    "version": 3
   },
   "file_extension": ".py",
   "mimetype": "text/x-python",
   "name": "python",
   "nbconvert_exporter": "python",
   "pygments_lexer": "ipython3",
   "version": "3.12.3"
  }
 },
 "nbformat": 4,
 "nbformat_minor": 5
}
