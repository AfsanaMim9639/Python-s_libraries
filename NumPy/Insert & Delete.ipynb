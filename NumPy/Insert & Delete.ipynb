{
 "cells": [
  {
   "cell_type": "code",
   "execution_count": 10,
   "id": "4c9297b6-19cd-4c8b-a0e0-7124fdf4154f",
   "metadata": {},
   "outputs": [
    {
     "name": "stdout",
     "output_type": "stream",
     "text": [
      "[1 2 3 4]\n",
      "<class 'numpy.ndarray'>\n",
      "[ 1  2 40  3  4]\n",
      "[1 2 3 4 6]\n"
     ]
    }
   ],
   "source": [
    "import numpy as np\n",
    "var = np.array([1,2,3,4])\n",
    "print(var)\n",
    "print(type(var))\n",
    "x = np.append(var, 6)\n",
    "v= np.insert(var, 2, 40)\n",
    "print(v)\n",
    "print(x)"
   ]
  },
  {
   "cell_type": "code",
   "execution_count": 8,
   "id": "ab8fd78d-0dbb-4152-bdff-732017b2b534",
   "metadata": {},
   "outputs": [
    {
     "name": "stdout",
     "output_type": "stream",
     "text": [
      "[[1 2 3 4]\n",
      " [1 2 3 4]]\n",
      "<class 'numpy.ndarray'>\n",
      "[[ 1  2 22  3  4]\n",
      " [ 1  2 23  3  4]]\n"
     ]
    }
   ],
   "source": [
    "#2D Matrix\n",
    "var1 = np.array([[1,2,3,4],[1,2,3,4]])\n",
    "print(var1)\n",
    "print(type(var1))\n",
    "\n",
    "v1 = np.insert(var1, 2, [22,23], axis =1)\n",
    "print(v1)"
   ]
  },
  {
   "cell_type": "code",
   "execution_count": 11,
   "id": "4ea39ad7-893d-4bac-bba9-692021206d1d",
   "metadata": {},
   "outputs": [
    {
     "name": "stdout",
     "output_type": "stream",
     "text": [
      "[1 2 3 4]\n",
      "<class 'numpy.ndarray'>\n",
      "[1 2 4]\n"
     ]
    }
   ],
   "source": [
    "#Delete Funtion\n",
    "var_del = np.array([1,2,3,4])\n",
    "print(var_del)\n",
    "print(type(var_del))\n",
    "x = np.delete(var, 2)\n",
    "\n",
    "print(x)\n"
   ]
  },
  {
   "cell_type": "code",
   "execution_count": null,
   "id": "11691c97-fe0e-4452-a720-d816f9fcfe5f",
   "metadata": {},
   "outputs": [],
   "source": []
  }
 ],
 "metadata": {
  "kernelspec": {
   "display_name": "Python 3 (ipykernel)",
   "language": "python",
   "name": "python3"
  },
  "language_info": {
   "codemirror_mode": {
    "name": "ipython",
    "version": 3
   },
   "file_extension": ".py",
   "mimetype": "text/x-python",
   "name": "python",
   "nbconvert_exporter": "python",
   "pygments_lexer": "ipython3",
   "version": "3.12.3"
  }
 },
 "nbformat": 4,
 "nbformat_minor": 5
}
