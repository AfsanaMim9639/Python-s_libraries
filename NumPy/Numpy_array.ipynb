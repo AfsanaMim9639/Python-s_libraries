{
 "cells": [
  {
   "cell_type": "code",
   "execution_count": 5,
   "id": "000662d1-bc7b-4f97-9bda-db5c099c214c",
   "metadata": {},
   "outputs": [
    {
     "name": "stdout",
     "output_type": "stream",
     "text": [
      "[1 2 3 4]\n",
      "<class 'numpy.ndarray'>\n",
      "1\n"
     ]
    }
   ],
   "source": [
    "#Array\n",
    "import numpy as np\n",
    "x=[1, 2,3,4]\n",
    "y= np.array(x)\n",
    "print(y)\n",
    "print(type(y))\n",
    "print(y.ndim)"
   ]
  },
  {
   "cell_type": "code",
   "execution_count": 4,
   "id": "5d5a932b-0d0b-4cf0-a9fd-349eb782b445",
   "metadata": {},
   "outputs": [
    {
     "name": "stdin",
     "output_type": "stream",
     "text": [
      "enter : 2\n",
      "enter : 3\n",
      "enter : 4\n",
      "enter : 4\n"
     ]
    },
    {
     "name": "stdout",
     "output_type": "stream",
     "text": [
      "['2' '3' '4' '4']\n"
     ]
    }
   ],
   "source": [
    "l=[]\n",
    "for i in range(1,5):\n",
    "    int_1 = int(input (\"enter :\"))\n",
    "    l.append(int_1)\n",
    "\n",
    "print(np.array(l))"
   ]
  },
  {
   "cell_type": "code",
   "execution_count": 8,
   "id": "8f3b1860-8af1-435a-9485-211f9d254b7c",
   "metadata": {},
   "outputs": [
    {
     "name": "stdout",
     "output_type": "stream",
     "text": [
      "[[1 2 3 4 5]\n",
      " [2 4 6 8 9]]\n",
      "2\n"
     ]
    }
   ],
   "source": [
    "#2-D array\n",
    "ar2 = np.array([[1, 2, 3, 4, 5], [2,4,6,8,9]])\n",
    "print(ar2)\n",
    "print(ar2.ndim)      "
   ]
  },
  {
   "cell_type": "code",
   "execution_count": 10,
   "id": "c6feab99-c9c9-4138-8c0c-7aae806096e3",
   "metadata": {},
   "outputs": [
    {
     "name": "stdout",
     "output_type": "stream",
     "text": [
      "[[[1 2 3 4 5]\n",
      "  [2 4 6 8 9]\n",
      "  [2 4 6 8 9]]]\n",
      "3\n"
     ]
    }
   ],
   "source": [
    "#3-D array\n",
    "ar3 = np.array([[[1, 2, 3, 4, 5], [2,4,6,8,9], [2,4,6,8,9]]])\n",
    "print(ar3)\n",
    "print(ar3.ndim)"
   ]
  },
  {
   "cell_type": "code",
   "execution_count": 14,
   "id": "38972c28-d66b-4542-9328-5b553080a038",
   "metadata": {},
   "outputs": [
    {
     "name": "stdout",
     "output_type": "stream",
     "text": [
      "[[[[[[[[[[1 2 3 4]]]]]]]]]]\n",
      "10\n"
     ]
    }
   ],
   "source": [
    "arn = np.array([1,2,3,4],ndmin = 10)\n",
    "print(arn)\n",
    "print(arn.ndim)"
   ]
  },
  {
   "cell_type": "code",
   "execution_count": null,
   "id": "b1b05729-666b-4aa5-9586-89e99e7fa8bd",
   "metadata": {},
   "outputs": [],
   "source": []
  }
 ],
 "metadata": {
  "kernelspec": {
   "display_name": "Python 3 (ipykernel)",
   "language": "python",
   "name": "python3"
  },
  "language_info": {
   "codemirror_mode": {
    "name": "ipython",
    "version": 3
   },
   "file_extension": ".py",
   "mimetype": "text/x-python",
   "name": "python",
   "nbconvert_exporter": "python",
   "pygments_lexer": "ipython3",
   "version": "3.12.3"
  }
 },
 "nbformat": 4,
 "nbformat_minor": 5
}
