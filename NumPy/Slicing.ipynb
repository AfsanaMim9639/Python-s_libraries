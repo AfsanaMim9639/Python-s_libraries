{
 "cells": [
  {
   "cell_type": "code",
   "execution_count": 5,
   "id": "556b13af-d52c-4cf4-9132-c4ebf36e798b",
   "metadata": {},
   "outputs": [
    {
     "name": "stdout",
     "output_type": "stream",
     "text": [
      "[1 2 3 4]\n",
      "\n",
      "2 to 4 :  [2 3 4]\n",
      "2 to End :  [2 3 4]\n",
      "Start to 4 :  [1 2 3 4]\n",
      "Stop :  [1 3]\n"
     ]
    }
   ],
   "source": [
    "#Slicing\n",
    "\n",
    "import numpy as np\n",
    "\n",
    "var = np.array([1,2,3,4])\n",
    "print(var)\n",
    "print()\n",
    "print(\"2 to 4 : \", var[1:5])\n",
    "print(\"2 to End : \", var[1:])\n",
    "\n",
    "print(\"Start to 4 : \", var[:4])\n",
    "\n",
    "print(\"Stop : \", var[::2])"
   ]
  },
  {
   "cell_type": "code",
   "execution_count": 8,
   "id": "46d52812-daab-42a1-adac-c7a8e3333786",
   "metadata": {},
   "outputs": [
    {
     "name": "stdout",
     "output_type": "stream",
     "text": [
      "[[11 21 31 41]\n",
      " [ 1  2  3  4]\n",
      " [11 12 13 14]]\n",
      "\n",
      "2 to 4 :  [2 3 4]\n"
     ]
    }
   ],
   "source": [
    "var1 = np.array([[11,21,31,41],[1,2,3,4],[11,12,13,14]])\n",
    "print(var1)\n",
    "print()\n",
    "\n",
    "print(\"2 to 4 : \", var1[1,1:])"
   ]
  },
  {
   "cell_type": "code",
   "execution_count": null,
   "id": "c5bdddb0-6b47-4c91-8718-e04ecfb7533e",
   "metadata": {},
   "outputs": [],
   "source": []
  }
 ],
 "metadata": {
  "kernelspec": {
   "display_name": "Python 3 (ipykernel)",
   "language": "python",
   "name": "python3"
  },
  "language_info": {
   "codemirror_mode": {
    "name": "ipython",
    "version": 3
   },
   "file_extension": ".py",
   "mimetype": "text/x-python",
   "name": "python",
   "nbconvert_exporter": "python",
   "pygments_lexer": "ipython3",
   "version": "3.12.3"
  }
 },
 "nbformat": 4,
 "nbformat_minor": 5
}
