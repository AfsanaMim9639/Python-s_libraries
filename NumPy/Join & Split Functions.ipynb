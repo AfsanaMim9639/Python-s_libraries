{
 "cells": [
  {
   "cell_type": "code",
   "execution_count": 1,
   "id": "82453077-2029-4aa4-865d-8de4938c0987",
   "metadata": {},
   "outputs": [
    {
     "name": "stdout",
     "output_type": "stream",
     "text": [
      "[1 2 3 3 4 5]\n"
     ]
    }
   ],
   "source": [
    "# 1D Array Join\n",
    "import numpy as np\n",
    "\n",
    "x = np.array([1,2,3])\n",
    "y = np.array([3,4,5])\n",
    "\n",
    "arr = np.concatenate((x, y))\n",
    "\n",
    "print(arr)"
   ]
  },
  {
   "cell_type": "code",
   "execution_count": 4,
   "id": "63e3b277-f83f-4a3c-9715-fa1e6fd788a2",
   "metadata": {},
   "outputs": [
    {
     "name": "stdout",
     "output_type": "stream",
     "text": [
      "[[1 2 3]\n",
      " [1 2 3]]\n",
      "\n",
      "[[3 4 5]\n",
      " [3 4 5]]\n",
      "\n",
      "[[1 2 3 3 4 5]\n",
      " [1 2 3 3 4 5]]\n"
     ]
    }
   ],
   "source": [
    "#2D Array\n",
    "\n",
    "x2 = np.array([[1,2,3],[1,2,3]])\n",
    "y2 = np.array([[3,4,5],[3,4,5]])\n",
    "\n",
    "arr2 = np.concatenate((x2, y2), axis=1)\n",
    "\n",
    "print(x2)\n",
    "print()\n",
    "print(y2)\n",
    "print()\n",
    "print(arr2)"
   ]
  },
  {
   "cell_type": "code",
   "execution_count": 9,
   "id": "4fbd5333-fab9-4281-8912-6b7e662b6bcf",
   "metadata": {},
   "outputs": [
    {
     "name": "stdout",
     "output_type": "stream",
     "text": [
      "[[1 3]\n",
      " [2 4]\n",
      " [3 5]]\n",
      "\n",
      "[1 2 3 3 4 5]\n",
      "\n",
      "[[1 2 3]\n",
      " [3 4 5]]\n",
      "\n",
      "[[[1 3]\n",
      "  [2 4]\n",
      "  [3 5]]]\n"
     ]
    }
   ],
   "source": [
    "x3 = np.array([1,2,3])\n",
    "y3 = np.array([3,4,5])\n",
    "\n",
    "arr3 = np.stack((x3, y3), axis=1)\n",
    "arr4 = np.hstack((x3, y3)) # row\n",
    "arr5 = np.vstack((x3, y3)) # column\n",
    "arr6 = np.dstack((x3, y3)) # height\n",
    "\n",
    "print(arr3)\n",
    "print()\n",
    "print(arr4)\n",
    "print()\n",
    "print(arr5)\n",
    "print()\n",
    "print(arr6)"
   ]
  },
  {
   "cell_type": "code",
   "execution_count": 12,
   "id": "752bc344-407f-4875-a79e-74be44945a47",
   "metadata": {},
   "outputs": [
    {
     "name": "stdout",
     "output_type": "stream",
     "text": [
      "[1 2 3 4 5 6]\n",
      "\n",
      "[array([1, 2]), array([3, 4]), array([5, 6])]\n"
     ]
    }
   ],
   "source": [
    "#========================================SPLIT Array==============================================\n",
    "var = np.array([1,2,3,4,5,6])\n",
    "print(var)\n",
    "\n",
    "array = np.array_split(var,3)\n",
    "print()\n",
    "print(array)"
   ]
  },
  {
   "cell_type": "code",
   "execution_count": null,
   "id": "4f659437-b59a-4dbb-a321-a8574188ac25",
   "metadata": {},
   "outputs": [],
   "source": []
  }
 ],
 "metadata": {
  "kernelspec": {
   "display_name": "Python 3 (ipykernel)",
   "language": "python",
   "name": "python3"
  },
  "language_info": {
   "codemirror_mode": {
    "name": "ipython",
    "version": 3
   },
   "file_extension": ".py",
   "mimetype": "text/x-python",
   "name": "python",
   "nbconvert_exporter": "python",
   "pygments_lexer": "ipython3",
   "version": "3.12.3"
  }
 },
 "nbformat": 4,
 "nbformat_minor": 5
}
