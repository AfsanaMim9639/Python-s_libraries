{
 "cells": [
  {
   "cell_type": "code",
   "execution_count": 1,
   "id": "9cfc71f6-f536-40a0-ac59-523e612f5b97",
   "metadata": {},
   "outputs": [
    {
     "name": "stdout",
     "output_type": "stream",
     "text": [
      "[4 5 6 7 8]\n"
     ]
    }
   ],
   "source": [
    "#Arithmetic Oerations\n",
    "\n",
    "import numpy as np\n",
    "var = np.array([1,2,3,4,5])\n",
    "varAdd = var + 3\n",
    "print(varAdd)\n"
   ]
  },
  {
   "cell_type": "code",
   "execution_count": 3,
   "id": "8ed4ccd7-7f5f-4006-b631-b846584d6eaa",
   "metadata": {},
   "outputs": [
    {
     "name": "stdout",
     "output_type": "stream",
     "text": [
      "[ 2  4  6  8 10]\n"
     ]
    }
   ],
   "source": [
    "var1 = np.array([1,2,3,4,5])\n",
    "var2 = np.array([1,2,3,4,5])\n",
    "\n",
    "\n",
    "varAdd = var1 + var2\n",
    "print(varAdd)"
   ]
  },
  {
   "cell_type": "code",
   "execution_count": 4,
   "id": "8d7e0273-b42a-4b24-bd9d-8c3a5eb47dce",
   "metadata": {},
   "outputs": [
    {
     "name": "stdout",
     "output_type": "stream",
     "text": [
      "[-2 -1  0  1  2]\n"
     ]
    }
   ],
   "source": [
    "#Substraction\n",
    "var = np.array([1,2,3,4,5])\n",
    "varSub = var - 3\n",
    "print(varSub)"
   ]
  },
  {
   "cell_type": "code",
   "execution_count": 5,
   "id": "8fc497ed-8e5f-476d-923b-7ec4036b6b2e",
   "metadata": {},
   "outputs": [
    {
     "name": "stdout",
     "output_type": "stream",
     "text": [
      "[ 3  6  9 12 15]\n"
     ]
    }
   ],
   "source": [
    "#Multiplication\n",
    "var = np.array([1,2,3,4,5])\n",
    "varMulty = var * 3\n",
    "print(varMulty)"
   ]
  },
  {
   "cell_type": "code",
   "execution_count": 6,
   "id": "dd86d2c6-30e7-464b-855d-25f280b29c89",
   "metadata": {},
   "outputs": [
    {
     "name": "stdout",
     "output_type": "stream",
     "text": [
      "[0.33333333 0.66666667 1.         1.33333333 1.66666667]\n"
     ]
    }
   ],
   "source": [
    "#Divsion\n",
    "var = np.array([1,2,3,4,5])\n",
    "varDiv = var / 3\n",
    "print(varDiv)"
   ]
  },
  {
   "cell_type": "code",
   "execution_count": 7,
   "id": "2f6360d0-32ea-4a03-a2af-f6ad13969e2f",
   "metadata": {},
   "outputs": [
    {
     "name": "stdout",
     "output_type": "stream",
     "text": [
      "[1 2 0 1 2]\n"
     ]
    }
   ],
   "source": [
    "#modulus\n",
    "var = np.array([1,2,3,4,5])\n",
    "varMod = var % 3\n",
    "print(varMod)"
   ]
  },
  {
   "cell_type": "code",
   "execution_count": 8,
   "id": "e5e14818-63fb-4a61-a97c-eb04d8f403c1",
   "metadata": {},
   "outputs": [
    {
     "name": "stdout",
     "output_type": "stream",
     "text": [
      "[[1 2 3 4 5]\n",
      " [1 2 3 4 5]]\n",
      "\n",
      "[[1 2 3 4 5]\n",
      " [1 2 3 4 5]]\n",
      "\n",
      "[[ 2  4  6  8 10]\n",
      " [ 2  4  6  8 10]]\n"
     ]
    }
   ],
   "source": [
    "#2D Array\n",
    "\n",
    "varArray = np.array([[1,2,3,4,5],[1,2,3,4,5]])\n",
    "varArray2 = np.array([[1,2,3,4,5],[1,2,3,4,5]])\n",
    "\n",
    "print(varArray)\n",
    "print()\n",
    "print(varArray2)\n",
    "print()\n",
    "\n",
    "varAdd2 = varArray + varArray2\n",
    "print(varAdd2)"
   ]
  },
  {
   "cell_type": "code",
   "execution_count": null,
   "id": "c712bd5e-6f3d-40f4-8db9-e10af3e0539b",
   "metadata": {},
   "outputs": [],
   "source": []
  }
 ],
 "metadata": {
  "kernelspec": {
   "display_name": "Python 3 (ipykernel)",
   "language": "python",
   "name": "python3"
  },
  "language_info": {
   "codemirror_mode": {
    "name": "ipython",
    "version": 3
   },
   "file_extension": ".py",
   "mimetype": "text/x-python",
   "name": "python",
   "nbconvert_exporter": "python",
   "pygments_lexer": "ipython3",
   "version": "3.12.3"
  }
 },
 "nbformat": 4,
 "nbformat_minor": 5
}
