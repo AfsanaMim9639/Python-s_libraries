{
 "cells": [
  {
   "cell_type": "code",
   "execution_count": 21,
   "id": "f7061592-1fd9-4184-b9cd-b32e447fa011",
   "metadata": {},
   "outputs": [
    {
     "name": "stdout",
     "output_type": "stream",
     "text": [
      "[[1 2]\n",
      " [1 2]]\n",
      "<class 'numpy.matrix'>\n",
      "\n",
      "Addition:  [[2 4]\n",
      " [2 4]]\n",
      "\n",
      "Substraction : \n",
      " [[0 0]\n",
      " [0 0]]\n",
      "Multiplication: \n",
      " [[3 6]\n",
      " [3 6]]\n",
      "TRanspose Function: \n",
      " [[1 1]\n",
      " [2 2]]\n",
      "Swapaxes: \n",
      " [[1 1]\n",
      " [2 2]]\n",
      "Inverse: \n",
      " [[-2.  3.]\n",
      " [ 1. -1.]]\n",
      "Power: \n",
      " [[4 9]\n",
      " [3 7]]\n",
      "Determinate Matrix: \n",
      " -1.0\n"
     ]
    }
   ],
   "source": [
    "#Matrix\n",
    "import numpy as np\n",
    "var = np.matrix([[1,2],[1,2]])\n",
    "var2 = np.matrix([[1,2],[1,2]])\n",
    "var3 = np.matrix([[1,3],[1,2]])\n",
    "print(var)\n",
    "print(type(var))\n",
    "print()\n",
    "\n",
    "print(\"Addition: \",var+var2)\n",
    "print()\n",
    "print(\"Substraction : \\n\",var-var2)\n",
    "print(\"Multiplication: \\n\", var.dot(var2))\n",
    "\n",
    "#Transpose\n",
    "print(\"TRanspose Function: \\n\", var.T)\n",
    "\n",
    "#Swapaxes\n",
    "print(\"Swapaxes: \\n\", np.swapaxes(var, 0,1))\n",
    "\n",
    "#Inverse Method\n",
    "\n",
    "print(\"Inverse: \\n\",np.linalg.inv(var3))\n",
    "\n",
    "#Power Function\n",
    "\n",
    "print(\"Power: \\n\",np.linalg.matrix_power(var3, 2))\n",
    "\n",
    "#DeterMine Matrix\n",
    "print(\"Determinate Matrix: \\n\",np.linalg.det(var3))\n",
    "\n"
   ]
  },
  {
   "cell_type": "code",
   "execution_count": null,
   "id": "c23ecbb0-a696-4a2d-a160-ca06deb45544",
   "metadata": {},
   "outputs": [],
   "source": []
  }
 ],
 "metadata": {
  "kernelspec": {
   "display_name": "Python 3 (ipykernel)",
   "language": "python",
   "name": "python3"
  },
  "language_info": {
   "codemirror_mode": {
    "name": "ipython",
    "version": 3
   },
   "file_extension": ".py",
   "mimetype": "text/x-python",
   "name": "python",
   "nbconvert_exporter": "python",
   "pygments_lexer": "ipython3",
   "version": "3.12.3"
  }
 },
 "nbformat": 4,
 "nbformat_minor": 5
}
