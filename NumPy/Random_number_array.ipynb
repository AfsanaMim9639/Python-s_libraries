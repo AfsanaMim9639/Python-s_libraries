{
 "cells": [
  {
   "cell_type": "code",
   "execution_count": 1,
   "id": "a703cc18-6deb-40da-afef-4a1675ad89cc",
   "metadata": {},
   "outputs": [
    {
     "name": "stdout",
     "output_type": "stream",
     "text": [
      "[0.19109332 0.35743785 0.00822141 0.33807786]\n"
     ]
    }
   ],
   "source": [
    "## RANDOM\n",
    "\n",
    "# 1.Rand() -for one dimention\n",
    "import numpy as np\n",
    "var = np.random.rand(4)\n",
    "print(var)"
   ]
  },
  {
   "cell_type": "code",
   "execution_count": 2,
   "id": "665013a7-abcd-4744-8ef8-c39d9db0ae54",
   "metadata": {},
   "outputs": [
    {
     "name": "stdout",
     "output_type": "stream",
     "text": [
      "[[0.51898776 0.63180038 0.60201137 0.52669393 0.28725802]\n",
      " [0.03932035 0.05970241 0.8663153  0.98646103 0.40212311]]\n"
     ]
    }
   ],
   "source": [
    "#Fr 2 dimentional\n",
    "var1 = np.random.rand(2,5)\n",
    "print(var1)\n"
   ]
  },
  {
   "cell_type": "code",
   "execution_count": 3,
   "id": "a8a58c7c-1a08-4a62-bf57-cf60bc08e2ac",
   "metadata": {},
   "outputs": [
    {
     "name": "stdout",
     "output_type": "stream",
     "text": [
      "[-1.75351853  1.27908134 -0.30085155 -0.14029703 -0.44742861]\n"
     ]
    }
   ],
   "source": [
    "#random 2. randn()-close to zero\n",
    "var2 = np.random.randn(5)\n",
    "print(var2)"
   ]
  },
  {
   "cell_type": "code",
   "execution_count": 4,
   "id": "9c555621-f0c3-4a31-81f3-7adedc4eac80",
   "metadata": {},
   "outputs": [
    {
     "name": "stdout",
     "output_type": "stream",
     "text": [
      "[0.02194896 0.03246776 0.73493181 0.11338165]\n"
     ]
    }
   ],
   "source": [
    "#RANDOM 3.ranf()\n",
    "\n",
    "var3= np.random.ranf(4)\n",
    "print(var3)"
   ]
  },
  {
   "cell_type": "code",
   "execution_count": 5,
   "id": "5d4cb20e-a755-44e1-8a8c-7d139d964968",
   "metadata": {},
   "outputs": [
    {
     "name": "stdout",
     "output_type": "stream",
     "text": [
      "[1 4 3 8 6 4 8 7]\n"
     ]
    }
   ],
   "source": [
    "#RANDOM 4.randint()-  given a range\n",
    "\n",
    "var_randint = np.random.randint(0,10,8)\n",
    "print(var_randint)"
   ]
  },
  {
   "cell_type": "code",
   "execution_count": null,
   "id": "4c8fb4e5-d5fa-48e6-a0fe-72969dcee6d3",
   "metadata": {},
   "outputs": [],
   "source": []
  }
 ],
 "metadata": {
  "kernelspec": {
   "display_name": "Python 3 (ipykernel)",
   "language": "python",
   "name": "python3"
  },
  "language_info": {
   "codemirror_mode": {
    "name": "ipython",
    "version": 3
   },
   "file_extension": ".py",
   "mimetype": "text/x-python",
   "name": "python",
   "nbconvert_exporter": "python",
   "pygments_lexer": "ipython3",
   "version": "3.12.3"
  }
 },
 "nbformat": 4,
 "nbformat_minor": 5
}
