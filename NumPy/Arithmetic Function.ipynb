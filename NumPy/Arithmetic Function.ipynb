{
 "cells": [
  {
   "cell_type": "code",
   "execution_count": 7,
   "id": "f7a330d3-01d1-4f79-bdc3-e1e1875a59cf",
   "metadata": {},
   "outputs": [
    {
     "name": "stdout",
     "output_type": "stream",
     "text": [
      "Min :  1 0\n",
      "Max :  6 6\n",
      "Sqrt :  [1.         1.41421356 1.73205081 2.         2.         2.23606798\n",
      " 2.44948974 2.44948974]\n"
     ]
    }
   ],
   "source": [
    "#Arithmetic Function\n",
    "import numpy as np\n",
    "var = np.array([1,2,3,4,4,5,6,6])\n",
    "\n",
    "print(\"Min : \", np.min(var), np.argmin(var))\n",
    "print(\"Max : \", np.max(var), np.argmax(var))\n",
    "print(\"Sqrt : \", np.sqrt(var))"
   ]
  },
  {
   "cell_type": "code",
   "execution_count": 6,
   "id": "8d124afb-daf8-4e25-9531-23dc325376f3",
   "metadata": {},
   "outputs": [
    {
     "name": "stdout",
     "output_type": "stream",
     "text": [
      "[2 5]\n"
     ]
    }
   ],
   "source": [
    "var1 = np.array([[2,3,4],[5,7,7]])\n",
    "\n",
    "print(np.min(var1, axis=1))"
   ]
  },
  {
   "cell_type": "code",
   "execution_count": 8,
   "id": "74546b6b-5be1-4abb-a496-5a9ba5e147b7",
   "metadata": {},
   "outputs": [
    {
     "name": "stdout",
     "output_type": "stream",
     "text": [
      "[0.84147098 0.90929743 0.52908269]\n"
     ]
    }
   ],
   "source": [
    "#Var Sin value\n",
    "varsin = np.array([1,2,34])\n",
    "print(np.sin(varsin))"
   ]
  },
  {
   "cell_type": "code",
   "execution_count": 10,
   "id": "a4358a52-4e78-4b3b-a7e2-e7f41a8b7590",
   "metadata": {},
   "outputs": [
    {
     "name": "stdout",
     "output_type": "stream",
     "text": [
      "[0.84147098 0.90929743 0.52908269]\n",
      "[ 1  3 37]\n"
     ]
    }
   ],
   "source": [
    "#Var Cos value\n",
    "varcos = np.array([1,2,34])\n",
    "print(np.sin(varcos))\n",
    "print(np.cumsum(varcos))"
   ]
  },
  {
   "cell_type": "code",
   "execution_count": null,
   "id": "dad7419d-0d70-4b32-a3be-f66b18958ce5",
   "metadata": {},
   "outputs": [],
   "source": []
  }
 ],
 "metadata": {
  "kernelspec": {
   "display_name": "Python 3 (ipykernel)",
   "language": "python",
   "name": "python3"
  },
  "language_info": {
   "codemirror_mode": {
    "name": "ipython",
    "version": 3
   },
   "file_extension": ".py",
   "mimetype": "text/x-python",
   "name": "python",
   "nbconvert_exporter": "python",
   "pygments_lexer": "ipython3",
   "version": "3.12.3"
  }
 },
 "nbformat": 4,
 "nbformat_minor": 5
}
