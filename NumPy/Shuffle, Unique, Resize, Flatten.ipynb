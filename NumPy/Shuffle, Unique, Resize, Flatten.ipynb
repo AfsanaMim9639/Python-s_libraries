{
 "cells": [
  {
   "cell_type": "code",
   "execution_count": 6,
   "id": "5a3b6de6-2e89-4e4c-9acb-6e425ff312ea",
   "metadata": {},
   "outputs": [
    {
     "name": "stdout",
     "output_type": "stream",
     "text": [
      "[3 4 2 1 5]\n"
     ]
    }
   ],
   "source": [
    "#Shuffle Funtion\n",
    "import numpy as np\n",
    "var_shu = np.array([1,2,3,4,5])\n",
    "\n",
    "np.random.shuffle(var_shu)\n",
    "print(var_shu)"
   ]
  },
  {
   "cell_type": "code",
   "execution_count": 10,
   "id": "3a60f68c-56eb-44d8-b578-da5a3ae4bf93",
   "metadata": {},
   "outputs": [
    {
     "name": "stdout",
     "output_type": "stream",
     "text": [
      "(array([1, 2, 3, 4, 5, 6]), array([0, 1, 2, 6, 4, 3], dtype=int64), array([1, 1, 2, 1, 2, 1], dtype=int64))\n"
     ]
    }
   ],
   "source": [
    "#Unique Function\n",
    "var_uni = np.array([1,2,3,6,5,3,4,5])\n",
    "\n",
    "x = np.unique(var_uni, return_index=True, return_counts=True)\n",
    "print(x)"
   ]
  },
  {
   "cell_type": "code",
   "execution_count": 12,
   "id": "df53e07b-ee3c-48a1-b1de-17a22f4d1bab",
   "metadata": {},
   "outputs": [
    {
     "name": "stdout",
     "output_type": "stream",
     "text": [
      "[[1 2 3]\n",
      " [4 5 6]]\n"
     ]
    }
   ],
   "source": [
    "var2= np.array([1,2,3,4,5,6])\n",
    "y= np.resize(var2, (2,3))\n",
    "print(y)"
   ]
  },
  {
   "cell_type": "code",
   "execution_count": 20,
   "id": "11c430df-3dd7-4499-bb75-989af33f158d",
   "metadata": {},
   "outputs": [
    {
     "name": "stdout",
     "output_type": "stream",
     "text": [
      "Flatten Function :  [1 4 2 5 3 6]\n",
      "Ravel Function :  [1 2 3 4 5 6]\n"
     ]
    }
   ],
   "source": [
    "#Faltten Function\n",
    "var2= np.array([1,2,3,4,5,6])\n",
    "y= np.resize(var2, (2,3))\n",
    "print(\"Flatten Function : \",y.flatten(order=\"F\"))\n",
    "print(\"Ravel Function : \",y.ravel(order=\"A\"))"
   ]
  },
  {
   "cell_type": "code",
   "execution_count": null,
   "id": "bb98895d-92f6-43a8-9cbe-c6e6e0e1fb4c",
   "metadata": {},
   "outputs": [],
   "source": []
  }
 ],
 "metadata": {
  "kernelspec": {
   "display_name": "Python 3 (ipykernel)",
   "language": "python",
   "name": "python3"
  },
  "language_info": {
   "codemirror_mode": {
    "name": "ipython",
    "version": 3
   },
   "file_extension": ".py",
   "mimetype": "text/x-python",
   "name": "python",
   "nbconvert_exporter": "python",
   "pygments_lexer": "ipython3",
   "version": "3.12.3"
  }
 },
 "nbformat": 4,
 "nbformat_minor": 5
}
