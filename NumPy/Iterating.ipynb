{
 "cells": [
  {
   "cell_type": "code",
   "execution_count": 2,
   "id": "0b3db6e2-6513-4998-9a07-86108508f0c9",
   "metadata": {},
   "outputs": [
    {
     "name": "stdout",
     "output_type": "stream",
     "text": [
      "[9 8 7 6 5 4 3]\n",
      "\n",
      "9\n",
      "8\n",
      "7\n",
      "6\n",
      "5\n",
      "4\n",
      "3\n"
     ]
    }
   ],
   "source": [
    "#Iterating\n",
    "import numpy as np\n",
    "x = np.array([9,8,7,6,5,4,3])\n",
    "\n",
    "print(x)\n",
    "print()\n",
    "for i in x:\n",
    "    print(i)\n"
   ]
  },
  {
   "cell_type": "code",
   "execution_count": 5,
   "id": "4f02a456-7819-424f-9390-bd8ad0baed6a",
   "metadata": {},
   "outputs": [
    {
     "name": "stdout",
     "output_type": "stream",
     "text": [
      "[[9 8 7 6 5 4 3]\n",
      " [9 8 7 6 5 4 3]]\n",
      "\n",
      "[9 8 7 6 5 4 3]\n",
      "[9 8 7 6 5 4 3]\n",
      "\n",
      "9\n",
      "8\n",
      "7\n",
      "6\n",
      "5\n",
      "4\n",
      "3\n",
      "9\n",
      "8\n",
      "7\n",
      "6\n",
      "5\n",
      "4\n",
      "3\n"
     ]
    }
   ],
   "source": [
    "x1 = np.array([[9,8,7,6,5,4,3], [9,8,7,6,5,4,3]])\n",
    "\n",
    "print(x1)\n",
    "print()\n",
    "for j in x1:\n",
    "    print(j)\n",
    "print()\n",
    "\n",
    "for k in x1:\n",
    "    for l in k:\n",
    "        print(l)\n"
   ]
  },
  {
   "cell_type": "code",
   "execution_count": 21,
   "id": "f3a7bdcd-1b22-4092-837b-5b2723031289",
   "metadata": {},
   "outputs": [
    {
     "name": "stdout",
     "output_type": "stream",
     "text": [
      "[[[ 9  8  7  6]\n",
      "  [19 18 17 16]]]\n",
      "3\n",
      "\n",
      "9\n",
      "8\n",
      "7\n",
      "6\n",
      "19\n",
      "18\n",
      "17\n",
      "16\n"
     ]
    }
   ],
   "source": [
    "# 3d array\n",
    "x3 = np.array([[[9,8,7,6], [19,18,17,16]]])\n",
    "\n",
    "print(x3)\n",
    "print(x3.ndim)\n",
    "print()\n",
    "\n",
    "for y in x3:\n",
    "    for z in y:\n",
    "        for p in z:\n",
    "        \n",
    "            print(p)\n"
   ]
  },
  {
   "cell_type": "code",
   "execution_count": 23,
   "id": "21c895f7-44ba-4b94-b2ec-7521fdec34e7",
   "metadata": {},
   "outputs": [
    {
     "name": "stdout",
     "output_type": "stream",
     "text": [
      "[[[ 9  8  7  6]\n",
      "  [19 18 17 16]]]\n",
      "3\n",
      "\n",
      "9\n",
      "8\n",
      "7\n",
      "6\n",
      "19\n",
      "18\n",
      "17\n",
      "16\n"
     ]
    }
   ],
   "source": [
    "# 3d array\n",
    "x3 = np.array([[[9,8,7,6], [19,18,17,16]]])\n",
    "\n",
    "print(x3)\n",
    "print(x3.ndim)\n",
    "print()\n",
    "\n",
    "for a in np.nditer(x3):\n",
    "   print(a)"
   ]
  },
  {
   "cell_type": "code",
   "execution_count": 24,
   "id": "671116a2-6daf-430b-b984-fdee672d035e",
   "metadata": {},
   "outputs": [
    {
     "name": "stdout",
     "output_type": "stream",
     "text": [
      "[[[ 9  8  7  6]\n",
      "  [19 18 17 16]]]\n",
      "3\n",
      "\n",
      "(0, 0, 0) 9\n",
      "(0, 0, 1) 8\n",
      "(0, 0, 2) 7\n",
      "(0, 0, 3) 6\n",
      "(0, 1, 0) 19\n",
      "(0, 1, 1) 18\n",
      "(0, 1, 2) 17\n",
      "(0, 1, 3) 16\n"
     ]
    }
   ],
   "source": [
    "# 3d array\n",
    "x3 = np.array([[[9,8,7,6], [19,18,17,16]]])\n",
    "\n",
    "print(x3)\n",
    "print(x3.ndim)\n",
    "print()\n",
    "\n",
    "for a,d in np.ndenumerate(x3):\n",
    "   print(a, d)"
   ]
  },
  {
   "cell_type": "code",
   "execution_count": null,
   "id": "e031483a-cda8-4368-bf81-b9d4dddc0bce",
   "metadata": {},
   "outputs": [],
   "source": []
  }
 ],
 "metadata": {
  "kernelspec": {
   "display_name": "Python 3 (ipykernel)",
   "language": "python",
   "name": "python3"
  },
  "language_info": {
   "codemirror_mode": {
    "name": "ipython",
    "version": 3
   },
   "file_extension": ".py",
   "mimetype": "text/x-python",
   "name": "python",
   "nbconvert_exporter": "python",
   "pygments_lexer": "ipython3",
   "version": "3.12.3"
  }
 },
 "nbformat": 4,
 "nbformat_minor": 5
}
