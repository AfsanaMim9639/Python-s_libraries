{
 "cells": [
  {
   "cell_type": "code",
   "execution_count": 1,
   "id": "042baa10-560d-45ea-bdec-3abc0f82c253",
   "metadata": {},
   "outputs": [
    {
     "name": "stdout",
     "output_type": "stream",
     "text": [
      "Data Type :  int32\n"
     ]
    }
   ],
   "source": [
    "#DATATYPE\n",
    "\n",
    "import numpy as np\n",
    "\n",
    "var = np.array([1, 2,3 ,4])\n",
    "\n",
    "print(\"Data Type : \", var.dtype)"
   ]
  },
  {
   "cell_type": "code",
   "execution_count": 3,
   "id": "2f3afa7d-9474-4537-bde5-b8f2fbdbf1bd",
   "metadata": {},
   "outputs": [
    {
     "name": "stdout",
     "output_type": "stream",
     "text": [
      "Data Type :  float64\n"
     ]
    }
   ],
   "source": [
    "var = np.array([1.2, 2.3,3.4 ,4.5])\n",
    "\n",
    "print(\"Data Type : \", var.dtype)"
   ]
  },
  {
   "cell_type": "code",
   "execution_count": 4,
   "id": "fd9ef211-5b9c-40e3-9183-408d75dede0c",
   "metadata": {},
   "outputs": [
    {
     "name": "stdout",
     "output_type": "stream",
     "text": [
      "Data Type :  <U1\n"
     ]
    }
   ],
   "source": [
    "var = np.array([\"A\", \"B\", \"C\", \"D\"])\n",
    "\n",
    "print(\"Data Type : \", var.dtype)"
   ]
  },
  {
   "cell_type": "code",
   "execution_count": 6,
   "id": "c8721dc0-9420-4bb4-8c1f-5c4cef020a28",
   "metadata": {},
   "outputs": [
    {
     "name": "stdout",
     "output_type": "stream",
     "text": [
      "Data Type :  int8\n",
      "[1 2 3 4]\n"
     ]
    }
   ],
   "source": [
    "#List Of characters that are used t represented dtype in Numpy\n",
    "# i= integer, b= bolean, u= unsnged integers, f= float, c= complex float, m= timedelta, M=datatime, O= object, S= string, U=unicode string, v=the fixed of memory fr other types (void)\n",
    "\n",
    "x = np.array([1, 2,3, 4], dtype =np.int8)\n",
    "print(\"Data Type : \", x.dtype)\n",
    "print(x)"
   ]
  },
  {
   "cell_type": "code",
   "execution_count": 8,
   "id": "91efadd2-5c9d-414f-9306-82211589c2fa",
   "metadata": {},
   "outputs": [
    {
     "name": "stdout",
     "output_type": "stream",
     "text": [
      "Data Type :  float32\n",
      "[1. 2. 3. 4.]\n"
     ]
    }
   ],
   "source": [
    "#convert from int to float\n",
    "x1 = np.array([1, 2,3, 4], dtype = \"f\")\n",
    "print(\"Data Type : \", x1.dtype)\n",
    "print(x1)\n"
   ]
  },
  {
   "cell_type": "code",
   "execution_count": 11,
   "id": "bced1933-9f4a-494b-acbc-62f0de123cd7",
   "metadata": {},
   "outputs": [
    {
     "name": "stdout",
     "output_type": "stream",
     "text": [
      "Data Type :  int32\n",
      "[1 2 3 4]\n",
      "[1. 2. 3. 4.]\n",
      "Data Type :  float32\n",
      "[1 2 3 4]\n",
      "Data Type :  int32\n"
     ]
    }
   ],
   "source": [
    "x2 = np.array([1, 2,3, 4])\n",
    "\n",
    "new = np.float32(x2)\n",
    "\n",
    "new1= np.int_(new)\n",
    "\n",
    "print(\"Data Type : \", x2.dtype)\n",
    "print(x2)\n",
    "print(new)\n",
    "print(\"Data Type : \", new.dtype)\n",
    "print(new1)\n",
    "print(\"Data Type : \", new1.dtype)"
   ]
  },
  {
   "cell_type": "code",
   "execution_count": 12,
   "id": "f4f84ed3-d2a2-4a4a-b9d8-c08944a419c3",
   "metadata": {},
   "outputs": [
    {
     "name": "stdout",
     "output_type": "stream",
     "text": [
      "[1 2 3 4]\n",
      "[1. 2. 3. 4.]\n"
     ]
    }
   ],
   "source": [
    "x3 = np.array([1, 2,3, 4])\n",
    "\n",
    "new_1 = x3.astype(float)\n",
    "\n",
    "print(x3)\n",
    "print(new_1)\n"
   ]
  },
  {
   "cell_type": "code",
   "execution_count": null,
   "id": "c22c8374-7b1f-4b95-87f9-9e5e5de2c268",
   "metadata": {},
   "outputs": [],
   "source": []
  }
 ],
 "metadata": {
  "kernelspec": {
   "display_name": "Python 3 (ipykernel)",
   "language": "python",
   "name": "python3"
  },
  "language_info": {
   "codemirror_mode": {
    "name": "ipython",
    "version": 3
   },
   "file_extension": ".py",
   "mimetype": "text/x-python",
   "name": "python",
   "nbconvert_exporter": "python",
   "pygments_lexer": "ipython3",
   "version": "3.12.3"
  }
 },
 "nbformat": 4,
 "nbformat_minor": 5
}
