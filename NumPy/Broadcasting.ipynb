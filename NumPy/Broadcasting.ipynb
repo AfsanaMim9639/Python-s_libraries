{
 "cells": [
  {
   "cell_type": "code",
   "execution_count": 6,
   "id": "2f0e0df4-f10b-4c80-b4d6-f0388571a9d8",
   "metadata": {},
   "outputs": [
    {
     "name": "stdout",
     "output_type": "stream",
     "text": [
      "(4,)\n",
      "[1 2 3 4]\n",
      "(3, 1)\n",
      "\n",
      "[[1]\n",
      " [2]\n",
      " [3]]\n",
      "\n",
      "[[2 3 4 5]\n",
      " [3 4 5 6]\n",
      " [4 5 6 7]]\n"
     ]
    }
   ],
   "source": [
    "#Broadcasting\n",
    "import numpy as np\n",
    "var = np.array([1,2,3,4])\n",
    "print(var.shape)\n",
    "print(var)\n",
    "\n",
    "\n",
    "var1 = np.array([[1],[2],[3]])\n",
    "print(var1.shape)\n",
    "print()\n",
    "print(var1)\n",
    "print()\n",
    "print(var + var1)"
   ]
  },
  {
   "cell_type": "code",
   "execution_count": 9,
   "id": "a9043125-e581-4632-84f3-b1c3d71722f5",
   "metadata": {},
   "outputs": [
    {
     "name": "stdout",
     "output_type": "stream",
     "text": [
      "(2, 1)\n",
      "[[2 3 4]\n",
      " [3 5 6]]\n"
     ]
    }
   ],
   "source": [
    "x = np.array([[1], [2]])\n",
    "print(x.shape)\n",
    "\n",
    "y = np.array([[1,2,3], [1,3,4]])\n",
    "print(x + y)"
   ]
  },
  {
   "cell_type": "code",
   "execution_count": null,
   "id": "e2c8a5a9-6e9a-4278-840f-251e674ce26d",
   "metadata": {},
   "outputs": [],
   "source": [
    "\n"
   ]
  }
 ],
 "metadata": {
  "kernelspec": {
   "display_name": "Python 3 (ipykernel)",
   "language": "python",
   "name": "python3"
  },
  "language_info": {
   "codemirror_mode": {
    "name": "ipython",
    "version": 3
   },
   "file_extension": ".py",
   "mimetype": "text/x-python",
   "name": "python",
   "nbconvert_exporter": "python",
   "pygments_lexer": "ipython3",
   "version": "3.12.3"
  }
 },
 "nbformat": 4,
 "nbformat_minor": 5
}
