{
 "cells": [
  {
   "cell_type": "code",
   "execution_count": 1,
   "id": "665e0ce9-25ed-49dc-98a3-47dd008ebecf",
   "metadata": {},
   "outputs": [
    {
     "name": "stdout",
     "output_type": "stream",
     "text": [
      "   ID Name  Age  Salary Gender\n",
      "0   1    A   23    2000      F\n",
      "1   2    B   34   30000      M\n",
      "2   3    C   56  500000      F\n",
      "3   1    D   28       0      M\n",
      "4   4    A   23   30000      F\n"
     ]
    }
   ],
   "source": [
    "import pandas as pd\n",
    "\n",
    "data ={ \"ID\" :[1,2,3,1,4],\n",
    "        \"Name\" :[\"A\", \"B\", \"C\", \"D\", \"A\"],\n",
    "       \"Age\" : [23, 34, 56, 28,23],\n",
    "       \"Salary\" : [2000,30000,500000, 0,30000],\n",
    "       \"Gender\" : ['F', 'M', \"F\", \"M\",'F']\n",
    "    }\n",
    "\n",
    "df = pd.DataFrame(data)\n",
    "print(df)\n"
   ]
  },
  {
   "cell_type": "code",
   "execution_count": 5,
   "id": "7b1931fc-737a-4fdf-9518-ffd4cd83bd3e",
   "metadata": {},
   "outputs": [
    {
     "name": "stdout",
     "output_type": "stream",
     "text": [
      "             ID\n",
      "Name Gender    \n",
      "A    F        2\n",
      "B    M        1\n",
      "C    F        1\n",
      "D    M        1\n"
     ]
    }
   ],
   "source": [
    "gp = df.groupby([\"Name\", \"Gender\"]).agg({\"ID\":\"count\"})\n",
    "print(gp)"
   ]
  },
  {
   "cell_type": "code",
   "execution_count": 8,
   "id": "489ece71-df56-4269-8e96-5912aad6bcf2",
   "metadata": {},
   "outputs": [
    {
     "name": "stdout",
     "output_type": "stream",
     "text": [
      "        Age\n",
      "Gender     \n",
      "F        23\n",
      "M        28\n"
     ]
    }
   ],
   "source": [
    "gp1 = df.groupby(\"Gender\").agg({\"Age\":\"max\",\"Age\":\"min\"})\n",
    "print(gp1)"
   ]
  }
 ],
 "metadata": {
  "kernelspec": {
   "display_name": "Python 3 (ipykernel)",
   "language": "python",
   "name": "python3"
  },
  "language_info": {
   "codemirror_mode": {
    "name": "ipython",
    "version": 3
   },
   "file_extension": ".py",
   "mimetype": "text/x-python",
   "name": "python",
   "nbconvert_exporter": "python",
   "pygments_lexer": "ipython3",
   "version": "3.12.3"
  }
 },
 "nbformat": 4,
 "nbformat_minor": 5
}
