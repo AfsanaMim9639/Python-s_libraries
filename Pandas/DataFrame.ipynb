{
 "cells": [
  {
   "cell_type": "code",
   "execution_count": 2,
   "id": "60571788-2781-4755-9c53-d9809830f267",
   "metadata": {},
   "outputs": [
    {
     "name": "stdout",
     "output_type": "stream",
     "text": [
      "  Name  Age  Salary Gender\n",
      "0    A   23    2000      F\n",
      "1    B   34   30000      M\n",
      "2    C   56  500000      F\n"
     ]
    }
   ],
   "source": [
    "#First Practice Code\n",
    "import pandas as pd\n",
    "\n",
    "data ={ \"Name\" :[\"A\", \"B\", \"C\"],\n",
    "       \"Age\" : [23, 34, 56],\n",
    "       \"Salary\" : [2000,30000,500000],\n",
    "       \"Gender\" : ['F', 'M', \"F\"]\n",
    "    }\n",
    "\n",
    "df = pd.DataFrame(data)\n",
    "print(df)\n"
   ]
  },
  {
   "cell_type": "code",
   "execution_count": null,
   "id": "c888d95e-e107-4eef-bd0e-7a3f1ecc61a5",
   "metadata": {},
   "outputs": [],
   "source": [
    "#This is code of any excle or csv file\n",
    "data = pd.read_csv(\"File name with path name\")\n",
    "data = pd.read_excel(\"File name with path name\")\n"
   ]
  },
  {
   "cell_type": "code",
   "execution_count": 7,
   "id": "f7138565-2cd9-4a1e-a863-29d8386eacad",
   "metadata": {},
   "outputs": [
    {
     "name": "stdout",
     "output_type": "stream",
     "text": [
      "  Name  Age  Salary Gender\n",
      "0    A   23    2000      F\n",
      "1    B   34   30000      M\n",
      "\n",
      "  Name  Age  Salary Gender\n",
      "1    B   34   30000      M\n",
      "2    C   56  500000      F\n"
     ]
    }
   ],
   "source": [
    "#Exploring data in Pandas\n",
    "print(df.head(2))\n",
    "\n",
    "print()\n",
    "\n",
    "print(df.tail(2))"
   ]
  },
  {
   "cell_type": "code",
   "execution_count": 8,
   "id": "1d3fd2cb-f8a4-4aed-a46a-4e10301998d4",
   "metadata": {},
   "outputs": [
    {
     "name": "stdout",
     "output_type": "stream",
     "text": [
      "<class 'pandas.core.frame.DataFrame'>\n",
      "RangeIndex: 3 entries, 0 to 2\n",
      "Data columns (total 4 columns):\n",
      " #   Column  Non-Null Count  Dtype \n",
      "---  ------  --------------  ----- \n",
      " 0   Name    3 non-null      object\n",
      " 1   Age     3 non-null      int64 \n",
      " 2   Salary  3 non-null      int64 \n",
      " 3   Gender  3 non-null      object\n",
      "dtypes: int64(2), object(2)\n",
      "memory usage: 228.0+ bytes\n",
      "None\n"
     ]
    }
   ],
   "source": [
    "#Row and coulmn counting \n",
    "print(df.info())"
   ]
  },
  {
   "cell_type": "code",
   "execution_count": 9,
   "id": "036aa255-961d-4a85-a175-bb61b2ff3e6d",
   "metadata": {},
   "outputs": [
    {
     "name": "stdout",
     "output_type": "stream",
     "text": [
      "             Age         Salary\n",
      "count   3.000000       3.000000\n",
      "mean   37.666667  177333.333333\n",
      "std    16.802778  279788.014992\n",
      "min    23.000000    2000.000000\n",
      "25%    28.500000   16000.000000\n",
      "50%    34.000000   30000.000000\n",
      "75%    45.000000  265000.000000\n",
      "max    56.000000  500000.000000\n"
     ]
    }
   ],
   "source": [
    "print(df.describe())"
   ]
  },
  {
   "cell_type": "code",
   "execution_count": 10,
   "id": "1b148452-f56e-403b-bcdb-680607d7af3e",
   "metadata": {},
   "outputs": [
    {
     "name": "stdout",
     "output_type": "stream",
     "text": [
      "Name      0\n",
      "Age       0\n",
      "Salary    0\n",
      "Gender    0\n",
      "dtype: int64\n"
     ]
    }
   ],
   "source": [
    "print(df.isnull().sum())"
   ]
  },
  {
   "cell_type": "code",
   "execution_count": null,
   "id": "7804eb47-bb9a-4e9c-8e21-b7d415f2ae89",
   "metadata": {},
   "outputs": [],
   "source": []
  }
 ],
 "metadata": {
  "kernelspec": {
   "display_name": "Python 3 (ipykernel)",
   "language": "python",
   "name": "python3"
  },
  "language_info": {
   "codemirror_mode": {
    "name": "ipython",
    "version": 3
   },
   "file_extension": ".py",
   "mimetype": "text/x-python",
   "name": "python",
   "nbconvert_exporter": "python",
   "pygments_lexer": "ipython3",
   "version": "3.12.3"
  }
 },
 "nbformat": 4,
 "nbformat_minor": 5
}
