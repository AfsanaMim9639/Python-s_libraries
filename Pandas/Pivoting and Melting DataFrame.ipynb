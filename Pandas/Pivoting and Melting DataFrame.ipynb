{
 "cells": [
  {
   "cell_type": "code",
   "execution_count": 15,
   "id": "911e1652-e2ca-4502-b2ee-802793a0995f",
   "metadata": {},
   "outputs": [
    {
     "name": "stdout",
     "output_type": "stream",
     "text": [
      "   ID Name  Age  Salary Gender\n",
      "0   1    A   23    2000      F\n",
      "1   2    B   34   30000      M\n",
      "2   3    C   56   50000      F\n",
      "3   4    D   28       0      M\n",
      "4   5    E   23   30000      F\n",
      "      Age                     Salary                           Gender       \\\n",
      "Name    A    B    C    D    E      A      B      C    D      E      A    B   \n",
      "ID                                                                           \n",
      "1      23  NaN  NaN  NaN  NaN   2000    NaN    NaN  NaN    NaN      F  NaN   \n",
      "2     NaN   34  NaN  NaN  NaN    NaN  30000    NaN  NaN    NaN    NaN    M   \n",
      "3     NaN  NaN   56  NaN  NaN    NaN    NaN  50000  NaN    NaN    NaN  NaN   \n",
      "4     NaN  NaN  NaN   28  NaN    NaN    NaN    NaN    0    NaN    NaN  NaN   \n",
      "5     NaN  NaN  NaN  NaN   23    NaN    NaN    NaN  NaN  30000    NaN  NaN   \n",
      "\n",
      "                     \n",
      "Name    C    D    E  \n",
      "ID                   \n",
      "1     NaN  NaN  NaN  \n",
      "2     NaN  NaN  NaN  \n",
      "3       F  NaN  NaN  \n",
      "4     NaN    M  NaN  \n",
      "5     NaN  NaN    F  \n"
     ]
    }
   ],
   "source": [
    "#Pivoting\n",
    "import pandas as pd\n",
    "\n",
    "data1 ={ \"ID\" :[1,2,3,4,5],\n",
    "        \"Name\" :[\"A\", \"B\", \"C\", \"D\", \"E\"],\n",
    "       \"Age\" : [23, 34, 56, 28,23],\n",
    "       \"Salary\" : [2000,30000,50000, 0,30000],\n",
    "       \"Gender\" : ['F', 'M', \"F\", \"M\",'F']\n",
    "    }\n",
    "\n",
    "df1 = pd.DataFrame(data1)\n",
    "print(df1)\n",
    "\n",
    "print (df1.pivot(index=\"ID\", columns=\"Name\", values=[\"Age\",\"Salary\",\"Gender\"]))"
   ]
  },
  {
   "cell_type": "code",
   "execution_count": 19,
   "id": "f485dd7b-a3d9-406f-8f51-80b328924721",
   "metadata": {},
   "outputs": [
    {
     "name": "stdout",
     "output_type": "stream",
     "text": [
      "    ID variable  value\n",
      "0    1     Name      A\n",
      "1    2     Name      B\n",
      "2    3     Name      C\n",
      "3    4     Name      D\n",
      "4    5     Name      E\n",
      "5    1   Gender      F\n",
      "6    2   Gender      M\n",
      "7    3   Gender      F\n",
      "8    4   Gender      M\n",
      "9    5   Gender      F\n",
      "10   1   Salary   2000\n",
      "11   2   Salary  30000\n",
      "12   3   Salary  50000\n",
      "13   4   Salary      0\n",
      "14   5   Salary  30000\n"
     ]
    }
   ],
   "source": [
    "#Melting\n",
    "print(pd.melt(df1, id_vars=[\"ID\"], value_vars=[\"Name\", \"Gender\",\"Salary\"]))"
   ]
  },
  {
   "cell_type": "code",
   "execution_count": null,
   "id": "153b39c6-48e3-48f7-92b4-867f1de75453",
   "metadata": {},
   "outputs": [],
   "source": []
  }
 ],
 "metadata": {
  "kernelspec": {
   "display_name": "Python 3 (ipykernel)",
   "language": "python",
   "name": "python3"
  },
  "language_info": {
   "codemirror_mode": {
    "name": "ipython",
    "version": 3
   },
   "file_extension": ".py",
   "mimetype": "text/x-python",
   "name": "python",
   "nbconvert_exporter": "python",
   "pygments_lexer": "ipython3",
   "version": "3.12.3"
  }
 },
 "nbformat": 4,
 "nbformat_minor": 5
}
