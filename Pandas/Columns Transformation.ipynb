{
 "cells": [
  {
   "cell_type": "code",
   "execution_count": 1,
   "id": "3731d0a7-d038-4b84-8841-483589d64c93",
   "metadata": {},
   "outputs": [
    {
     "name": "stdout",
     "output_type": "stream",
     "text": [
      "   ID Name  Age  Salary Gender\n",
      "0   1    A   23    2000      F\n",
      "1   2    B   34   30000      M\n",
      "2   3    C   56  500000      F\n",
      "3   1    D   28       0      M\n",
      "4   4    A   23   30000      F\n"
     ]
    }
   ],
   "source": [
    "import pandas as pd\n",
    "\n",
    "data ={ \"ID\" :[1,2,3,1,4],\n",
    "        \"Name\" :[\"A\", \"B\", \"C\", \"D\", \"A\"],\n",
    "       \"Age\" : [23, 34, 56, 28,23],\n",
    "       \"Salary\" : [2000,30000,500000, 0,30000],\n",
    "       \"Gender\" : ['F', 'M', \"F\", \"M\",'F']\n",
    "    }\n",
    "\n",
    "df = pd.DataFrame(data)\n",
    "print(df)"
   ]
  },
  {
   "cell_type": "code",
   "execution_count": 11,
   "id": "55996bfa-3a6b-4be0-9a9c-b9b4406ff3c0",
   "metadata": {},
   "outputs": [
    {
     "name": "stdout",
     "output_type": "stream",
     "text": [
      "   ID Name  Age  Salary Gender Full Name\n",
      "0   1    A   23    2000      F       A F\n",
      "1   2    B   34   30000      M       B M\n",
      "2   3    C   56  500000      F       C F\n",
      "3   1    D   28       0      M       D M\n",
      "4   4    A   23   30000      F       A F\n"
     ]
    }
   ],
   "source": [
    "'''df.loc[(df[\"sal %\"] == 0), \"GetsValues\"]= \"No Values\"\n",
    "df.loc[(df[\"sal %\"] > 0 , \"GetsValues\")]= \"Values\"\n",
    "print(df.head(4))'''\n",
    "\n",
    "df['Full Name'] = df[\"Name\"].str.capitalize() +\" \"+ df[\"Gender\"]  \n",
    "print(df)"
   ]
  },
  {
   "cell_type": "code",
   "execution_count": 12,
   "id": "61bb7bad-9600-427f-b300-6df7143fc8da",
   "metadata": {},
   "outputs": [
    {
     "name": "stdout",
     "output_type": "stream",
     "text": [
      "   ID Name  Age  Salary Gender Full Name     Bonus\n",
      "0   1    A   23    2000      F       A F     400.0\n",
      "1   2    B   34   30000      M       B M    6000.0\n",
      "2   3    C   56  500000      F       C F  100000.0\n",
      "3   1    D   28       0      M       D M       0.0\n",
      "4   4    A   23   30000      F       A F    6000.0\n"
     ]
    }
   ],
   "source": [
    "\n",
    "df[\"Bonus\"]  = (df[\"Salary\"]/100)*20\n",
    "print(df)"
   ]
  },
  {
   "cell_type": "code",
   "execution_count": 18,
   "id": "699058af-0bb2-4040-9e1e-6c56573e80f2",
   "metadata": {},
   "outputs": [
    {
     "name": "stdout",
     "output_type": "stream",
     "text": [
      "     Months\n",
      "0   January\n",
      "1  February\n",
      "2     March\n",
      "3     April\n",
      "     Months Full_Months\n",
      "0   January         Jan\n",
      "1  February         Feb\n",
      "2     March         Mar\n",
      "3     April         Apr\n"
     ]
    }
   ],
   "source": [
    "data1 ={\"Months\" : [\"January\", \"February\", \"March\", \"April\"]}\n",
    "a=pd.DataFrame(data1)\n",
    "print(a)\n",
    "\n",
    "def extract(values):\n",
    "    return values[0:3]\n",
    "\n",
    "\n",
    "a[\"Full_Months\"]= a[\"Months\"].map(extract)\n",
    "print(a)"
   ]
  },
  {
   "cell_type": "code",
   "execution_count": null,
   "id": "96b3dd18-67d5-4638-a3f2-5e4c31df7ed0",
   "metadata": {},
   "outputs": [],
   "source": []
  }
 ],
 "metadata": {
  "kernelspec": {
   "display_name": "Python 3 (ipykernel)",
   "language": "python",
   "name": "python3"
  },
  "language_info": {
   "codemirror_mode": {
    "name": "ipython",
    "version": 3
   },
   "file_extension": ".py",
   "mimetype": "text/x-python",
   "name": "python",
   "nbconvert_exporter": "python",
   "pygments_lexer": "ipython3",
   "version": "3.12.3"
  }
 },
 "nbformat": 4,
 "nbformat_minor": 5
}
