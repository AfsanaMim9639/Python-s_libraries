{
 "cells": [
  {
   "cell_type": "code",
   "execution_count": 3,
   "id": "033590c3-74aa-4b88-ada9-1a5e9849f10a",
   "metadata": {},
   "outputs": [
    {
     "name": "stdout",
     "output_type": "stream",
     "text": [
      "   ID Name  Age  Salary Gender\n",
      "0   1    A   23    2000      F\n",
      "1   2    B   34   30000      M\n",
      "2   3    C   56  500000      F\n",
      "3   1    D   28       0      M\n",
      "4   4    A   23   30000      F\n",
      "\n",
      "   ID Name  Age  Salary Gender\n",
      "0   1    A   23    2000      F\n",
      "1   2    B   34   30000      M\n",
      "2   3    C   56  500000      F\n",
      "3   1    D   28       0      M\n",
      "4   4    A   23   30000      F\n"
     ]
    }
   ],
   "source": [
    "import pandas as pd\n",
    "\n",
    "data1 ={ \"ID\" :[1,2,3,1,4],\n",
    "        \"Name\" :[\"A\", \"B\", \"C\", \"D\", \"A\"],\n",
    "       \"Age\" : [23, 34, 56, 28,23],\n",
    "       \"Salary\" : [2000,30000,500000, 0,30000],\n",
    "       \"Gender\" : ['F', 'M', \"F\", \"M\",'F']\n",
    "    }\n",
    "\n",
    "data2 ={ \"ID\" :[1,2,3,1,4],\n",
    "        \"Name\" :[\"A\", \"B\", \"C\", \"D\", \"A\"],\n",
    "       \"Age\" : [23, 34, 56, 28,23],\n",
    "       \"Salary\" : [2000,30000,500000, 0,30000],\n",
    "       \"Gender\" : ['F', 'M', \"F\", \"M\",'F']\n",
    "    }\n",
    "\n",
    "df1 = pd.DataFrame(data1)\n",
    "df2 = pd.DataFrame(data2)\n",
    "print(df1)\n",
    "print()\n",
    "print(df2)"
   ]
  },
  {
   "cell_type": "code",
   "execution_count": 8,
   "id": "4ee0ceb9-e55d-4634-9d07-c74c8f00f464",
   "metadata": {},
   "outputs": [
    {
     "name": "stdout",
     "output_type": "stream",
     "text": [
      "   ID Name_x  Age_x  Salary_x Gender_x Name_y  Age_y  Salary_y Gender_y\n",
      "0   1      A     23      2000        F      A     23      2000        F\n",
      "1   1      A     23      2000        F      D     28         0        M\n",
      "2   2      B     34     30000        M      B     34     30000        M\n",
      "3   3      C     56    500000        F      C     56    500000        F\n",
      "4   1      D     28         0        M      A     23      2000        F\n",
      "5   1      D     28         0        M      D     28         0        M\n",
      "6   4      A     23     30000        F      A     23     30000        F\n",
      "\n",
      "   ID Name_x  Age_x  Salary_x Gender_x Name_y  Age_y  Salary_y Gender_y\n",
      "0   1      A     23      2000        F      A     23      2000        F\n",
      "1   1      D     28         0        M      A     23      2000        F\n",
      "2   2      B     34     30000        M      B     34     30000        M\n",
      "3   3      C     56    500000        F      C     56    500000        F\n",
      "4   1      A     23      2000        F      D     28         0        M\n",
      "5   1      D     28         0        M      D     28         0        M\n",
      "6   4      A     23     30000        F      A     23     30000        F\n"
     ]
    }
   ],
   "source": [
    "#MERGE\n",
    "print(pd.merge(df1,df2, on = \"ID\", how=\"left\"))\n",
    "\n",
    "print()\n",
    "print(pd.merge(df1,df2, on = \"ID\", how=\"right\"))"
   ]
  },
  {
   "cell_type": "code",
   "execution_count": 14,
   "id": "361d746d-3d9f-46ad-9a81-47ab7c28ce53",
   "metadata": {},
   "outputs": [
    {
     "name": "stdout",
     "output_type": "stream",
     "text": [
      "   ID Name  Age  Salary Gender\n",
      "0   1    A   23    2000      F\n",
      "1   2    B   34   30000      M\n",
      "2   3    C   56  500000      F\n",
      "3   1    D   28       0      M\n",
      "4   4    A   23   30000      F\n",
      "0   1    A   23    2000      F\n",
      "1   2    B   34   30000      M\n",
      "2   3    C   56  500000      F\n",
      "3   1    D   28       0      M\n",
      "4   4    A   23   30000      F\n"
     ]
    }
   ],
   "source": [
    "print(pd.concat([df1,df2]))"
   ]
  },
  {
   "cell_type": "code",
   "execution_count": null,
   "id": "1697680e-50b6-4b43-a661-86ef2f83c314",
   "metadata": {},
   "outputs": [],
   "source": []
  }
 ],
 "metadata": {
  "kernelspec": {
   "display_name": "Python 3 (ipykernel)",
   "language": "python",
   "name": "python3"
  },
  "language_info": {
   "codemirror_mode": {
    "name": "ipython",
    "version": 3
   },
   "file_extension": ".py",
   "mimetype": "text/x-python",
   "name": "python",
   "nbconvert_exporter": "python",
   "pygments_lexer": "ipython3",
   "version": "3.12.3"
  }
 },
 "nbformat": 4,
 "nbformat_minor": 5
}
