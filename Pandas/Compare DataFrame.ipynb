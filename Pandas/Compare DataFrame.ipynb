{
 "cells": [
  {
   "cell_type": "code",
   "execution_count": 7,
   "id": "ae7b703f-4094-4af4-89d4-b2629c558966",
   "metadata": {},
   "outputs": [
    {
     "name": "stdout",
     "output_type": "stream",
     "text": [
      "   ID Name  Age  Salary Gender\n",
      "0   1    A   23    2000      F\n",
      "1   2    B   34   30000      M\n",
      "2   3    C   56   50000      F\n",
      "3   1    D   28       0      M\n",
      "4   4    A   23   30000      F\n",
      "\n"
     ]
    }
   ],
   "source": [
    "import pandas as pd\n",
    "\n",
    "data1 ={ \"ID\" :[1,2,3,1,4],\n",
    "        \"Name\" :[\"A\", \"B\", \"C\", \"D\", \"A\"],\n",
    "       \"Age\" : [23, 34, 56, 28,23],\n",
    "       \"Salary\" : [2000,30000,50000, 0,30000],\n",
    "       \"Gender\" : ['F', 'M', \"F\", \"M\",'F']\n",
    "    }\n",
    "\n",
    "df1 = pd.DataFrame(data1)\n",
    "print(df1)\n",
    "print()\n",
    "\n"
   ]
  },
  {
   "cell_type": "code",
   "execution_count": 11,
   "id": "6ea5e5bd-67e7-4728-8451-899bf22ca7b4",
   "metadata": {},
   "outputs": [
    {
     "name": "stdout",
     "output_type": "stream",
     "text": [
      "   ID Name  Age  Salary Gender\n",
      "0   1    A   23   25000      F\n",
      "1   2    B   34  350000      M\n",
      "2   3    C   56  550000      F\n",
      "3   1    D   28   30000      M\n",
      "4   4    A   23   30000      F\n"
     ]
    }
   ],
   "source": [
    "#Make copy data with update\n",
    "df2 = df1.copy()\n",
    "df2.loc[0,\"Salary\"]=25000\n",
    "df2.loc[1,\"Salary\"]=350000\n",
    "df2.loc[2,\"Salary\"]=550000\n",
    "df2.loc[3,\"Salary\"]=30000\n",
    "print(df2)\n",
    "\n"
   ]
  },
  {
   "cell_type": "code",
   "execution_count": 10,
   "id": "e4d654c6-2388-44ce-9dab-434193f09d8a",
   "metadata": {},
   "outputs": [
    {
     "name": "stdout",
     "output_type": "stream",
     "text": [
      "    Salary          \n",
      "      self     other\n",
      "0   2000.0   25000.0\n",
      "1  30000.0  350000.0\n",
      "2  50000.0  550000.0\n",
      "3      0.0   30000.0\n"
     ]
    }
   ],
   "source": [
    "#Compare data\n",
    "print(df1.compare(df2))"
   ]
  },
  {
   "cell_type": "code",
   "execution_count": 14,
   "id": "84170bfb-50f7-4d9b-8f25-fe4c8190d11d",
   "metadata": {},
   "outputs": [
    {
     "name": "stdout",
     "output_type": "stream",
     "text": [
      "  Salary        \n",
      "    self   other\n",
      "0   2000   25000\n",
      "1  30000  350000\n",
      "2  50000  550000\n",
      "3      0   30000\n",
      "    Salary          \n",
      "      self     other\n",
      "0   2000.0   25000.0\n",
      "1  30000.0  350000.0\n",
      "2  50000.0  550000.0\n",
      "3      0.0   30000.0\n"
     ]
    }
   ],
   "source": [
    "print(df1.compare(df2, keep_equal=True))\n",
    "print(df1.compare(df2, keep_shape=False))"
   ]
  },
  {
   "cell_type": "code",
   "execution_count": null,
   "id": "32832146-95cf-449a-8481-5d572075db07",
   "metadata": {},
   "outputs": [],
   "source": []
  }
 ],
 "metadata": {
  "kernelspec": {
   "display_name": "Python 3 (ipykernel)",
   "language": "python",
   "name": "python3"
  },
  "language_info": {
   "codemirror_mode": {
    "name": "ipython",
    "version": 3
   },
   "file_extension": ".py",
   "mimetype": "text/x-python",
   "name": "python",
   "nbconvert_exporter": "python",
   "pygments_lexer": "ipython3",
   "version": "3.12.3"
  }
 },
 "nbformat": 4,
 "nbformat_minor": 5
}
