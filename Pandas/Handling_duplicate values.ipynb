{
 "cells": [
  {
   "cell_type": "code",
   "execution_count": 9,
   "id": "c5e1d4bf-60fd-41cf-ae74-d6d9356ab342",
   "metadata": {},
   "outputs": [
    {
     "name": "stdout",
     "output_type": "stream",
     "text": [
      "   ID Name Age  Salary Gender\n",
      "0   1    A  23    2000      F\n",
      "1   2    B  34   30000      M\n",
      "2   3    C  56  500000      F\n",
      "3   1    D  28   20000      M\n",
      "4   4    A  23   30000      F\n"
     ]
    }
   ],
   "source": [
    "import pandas as pd\n",
    "\n",
    "data ={ \"ID\" :[1,2,3,1,4],\n",
    "    \n",
    "        \"Name\" :[\"A\", \"B\", \"C\", \"D\", \"A\"],\n",
    "       \"Age\" : [23, 34, 56, 28,'23'],\n",
    "       \"Salary\" : [2000,30000,500000, 20000,'30000'],\n",
    "       \"Gender\" : ['F', 'M', \"F\", \"M\",'F']\n",
    "    }\n",
    "\n",
    "df = pd.DataFrame(data)\n",
    "print(df)"
   ]
  },
  {
   "cell_type": "code",
   "execution_count": 5,
   "id": "d44aa7d6-c8fb-4d33-9bd9-665abe821149",
   "metadata": {},
   "outputs": [
    {
     "name": "stdout",
     "output_type": "stream",
     "text": [
      "1\n"
     ]
    }
   ],
   "source": [
    "print(df[\"Name\"].duplicated().sum())"
   ]
  },
  {
   "cell_type": "code",
   "execution_count": 10,
   "id": "4fe9c660-8f2f-4380-812d-e16b47961cab",
   "metadata": {},
   "outputs": [
    {
     "name": "stdout",
     "output_type": "stream",
     "text": [
      "   ID Name Age  Salary Gender\n",
      "0   1    A  23    2000      F\n",
      "1   2    B  34   30000      M\n",
      "2   3    C  56  500000      F\n",
      "4   4    A  23   30000      F\n"
     ]
    }
   ],
   "source": [
    "#duplicate values chcek by unique id\n",
    "print(df.drop_duplicates(\"ID\"))"
   ]
  },
  {
   "cell_type": "code",
   "execution_count": null,
   "id": "e6a48af6-0950-44e0-925b-8987cd17770f",
   "metadata": {},
   "outputs": [],
   "source": []
  }
 ],
 "metadata": {
  "kernelspec": {
   "display_name": "Python 3 (ipykernel)",
   "language": "python",
   "name": "python3"
  },
  "language_info": {
   "codemirror_mode": {
    "name": "ipython",
    "version": 3
   },
   "file_extension": ".py",
   "mimetype": "text/x-python",
   "name": "python",
   "nbconvert_exporter": "python",
   "pygments_lexer": "ipython3",
   "version": "3.12.3"
  }
 },
 "nbformat": 4,
 "nbformat_minor": 5
}
