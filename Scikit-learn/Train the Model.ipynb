{
 "cells": [
  {
   "cell_type": "code",
   "execution_count": 7,
   "id": "6be683b3-6e01-466c-9f81-790fdc87de2a",
   "metadata": {},
   "outputs": [
    {
     "ename": "SyntaxError",
     "evalue": "invalid syntax (3011380202.py, line 16)",
     "output_type": "error",
     "traceback": [
      "\u001b[1;36m  Cell \u001b[1;32mIn[7], line 16\u001b[1;36m\u001b[0m\n\u001b[1;33m    pred_species = [iris.target_names[p] for p in preds] print(\"Predictions:\",\u001b[0m\n\u001b[1;37m                                                         ^\u001b[0m\n\u001b[1;31mSyntaxError\u001b[0m\u001b[1;31m:\u001b[0m invalid syntax\n"
     ]
    }
   ],
   "source": [
    "from sklearn.datasets import load_iris\n",
    "iris = load_iris()\n",
    "X = iris.data\n",
    "y = iris.target\n",
    "from sklearn.model_selection import train_test_split\n",
    "X_train, X_test, y_train, y_test = train_test_split(X, y, test_size=0.4, random_state=1)\n",
    "from sklearn.neighbors import KNeighborsClassifier\n",
    "from sklearn import metrics\n",
    "classifier_knn.fit(X_train, y_train)\n",
    "y_pred = classifier_knn.predict(X_test)\n",
    "# Finding accuracy by comparing actual response values(y_test)with predicted response value(y_pred)\n",
    "print(\"Accuracy:\", metrics.accuracy_score(y_test, y_pred))\n",
    "# Providing sample data and the model will make prediction out of that data\n",
    "sample = [[5, 5, 3, 2], [2, 4, 3, 5]]\n",
    "preds = classifier_knn.predict(sample)\n",
    "pred_species = [iris.target_names[p] for p in preds] print(\"Predictions:\", \n",
    "pred_species)\n",
    "                                    "
   ]
  },
  {
   "cell_type": "code",
   "execution_count": null,
   "id": "f953482a-3b63-48b6-b4b0-0feaa541e49a",
   "metadata": {},
   "outputs": [],
   "source": []
  }
 ],
 "metadata": {
  "kernelspec": {
   "display_name": "Python 3 (ipykernel)",
   "language": "python",
   "name": "python3"
  },
  "language_info": {
   "codemirror_mode": {
    "name": "ipython",
    "version": 3
   },
   "file_extension": ".py",
   "mimetype": "text/x-python",
   "name": "python",
   "nbconvert_exporter": "python",
   "pygments_lexer": "ipython3",
   "version": "3.12.3"
  }
 },
 "nbformat": 4,
 "nbformat_minor": 5
}
