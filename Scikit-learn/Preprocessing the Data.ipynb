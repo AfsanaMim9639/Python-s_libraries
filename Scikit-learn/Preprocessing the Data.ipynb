{
 "cells": [
  {
   "cell_type": "markdown",
   "id": "872e3056-14fd-4088-b839-4c31a82cf9fa",
   "metadata": {},
   "source": [
    "# Binarisation\n"
   ]
  },
  {
   "cell_type": "code",
   "execution_count": 6,
   "id": "da8bc6ee-b3e0-4d3f-936b-311cf81869d9",
   "metadata": {},
   "outputs": [],
   "source": [
    "import numpy as np\n",
    "from sklearn import preprocessing "
   ]
  },
  {
   "cell_type": "code",
   "execution_count": 8,
   "id": "de274edc-db24-4a29-b1b4-321fdbabfe00",
   "metadata": {},
   "outputs": [
    {
     "name": "stdout",
     "output_type": "stream",
     "text": [
      "\n",
      "Binarized data:\n",
      " [[1. 0. 1.]\n",
      " [0. 1. 1.]\n",
      " [0. 0. 1.]\n",
      " [1. 1. 0.]]\n"
     ]
    }
   ],
   "source": [
    "input_data = np.array([[2.1, -1.9, 5.5],\n",
    " [-1.5, 2.4, 3.5],\n",
    " [0.5, -7.9, 5.6],\n",
    " [5.9, 2.3, -5.8]])\n",
    "data_binarized = preprocessing.Binarizer(threshold=0.5).transform(input_data)\n",
    "print(\"\\nBinarized data:\\n\", data_binarized)"
   ]
  },
  {
   "cell_type": "markdown",
   "id": "45edfb01-c331-4e57-8c03-9f53f1990a13",
   "metadata": {},
   "source": [
    "# Mean Removal\n"
   ]
  },
  {
   "cell_type": "code",
   "execution_count": 11,
   "id": "c8c9d9a1-90a9-47e1-b78b-f4852013a03b",
   "metadata": {},
   "outputs": [
    {
     "name": "stdout",
     "output_type": "stream",
     "text": [
      "Mean = [ 1.75  -1.275  2.2  ]\n",
      "Stddeviation =  [2.71431391 4.20022321 4.69414529]\n",
      "Mean_removed = [1.11022302e-16 0.00000000e+00 0.00000000e+00]\n",
      "Stddeviation_removed = [1. 1. 1.]\n"
     ]
    }
   ],
   "source": [
    "input_data = np.array([[2.1, -1.9, 5.5],\n",
    "     [-1.5, 2.4, 3.5],\n",
    "     [0.5, -7.9, 5.6],\n",
    "     [5.9, 2.3, -5.8]])\n",
    "#displaying the mean and the standard deviation of the input data\n",
    "print(\"Mean =\", input_data.mean(axis=0))\n",
    "print(\"Stddeviation = \", input_data.std(axis=0))\n",
    "#Removing the mean and the standard deviation of the input data\n",
    "data_scaled = preprocessing.scale(input_data)\n",
    "print(\"Mean_removed =\", data_scaled.mean(axis=0))\n",
    "print(\"Stddeviation_removed =\", data_scaled.std(axis=0))\n"
   ]
  },
  {
   "cell_type": "markdown",
   "id": "4bac64ed-c395-4366-9ab7-f49d2d92eac0",
   "metadata": {},
   "source": [
    "# Scaling"
   ]
  },
  {
   "cell_type": "code",
   "execution_count": 14,
   "id": "7d421f9c-5c98-403f-b936-1042c74722e2",
   "metadata": {},
   "outputs": [
    {
     "name": "stdout",
     "output_type": "stream",
     "text": [
      "\n",
      "Min max scaled data:\n",
      " [[0.48648649 0.58252427 0.99122807]\n",
      " [0.         1.         0.81578947]\n",
      " [0.27027027 0.         1.        ]\n",
      " [1.         0.99029126 0.        ]]\n"
     ]
    }
   ],
   "source": [
    "input_data = np.array([[2.1, -1.9, 5.5],\n",
    " \n",
    " [-1.5, 2.4, 3.5],\n",
    " [0.5, -7.9, 5.6],\n",
    " [5.9, 2.3, -5.8]])\n",
    "data_scaler_minmax = preprocessing.MinMaxScaler(feature_range=(0,1))\n",
    "data_scaled_minmax = data_scaler_minmax.fit_transform(input_data)\n",
    "print (\"\\nMin max scaled data:\\n\", data_scaled_minmax)\n"
   ]
  },
  {
   "cell_type": "markdown",
   "id": "0961da6b-ad79-4ff3-b96c-339c68f251c6",
   "metadata": {},
   "source": [
    "# Normalisation"
   ]
  },
  {
   "cell_type": "code",
   "execution_count": 16,
   "id": "f8959067-1c5c-46ce-b602-cd0e1606091b",
   "metadata": {},
   "outputs": [
    {
     "name": "stdout",
     "output_type": "stream",
     "text": [
      "\n",
      "L1 normalized data:\n",
      " [[ 0.22105263 -0.2         0.57894737]\n",
      " [-0.2027027   0.32432432  0.47297297]\n",
      " [ 0.03571429 -0.56428571  0.4       ]\n",
      " [ 0.42142857  0.16428571 -0.41428571]]\n"
     ]
    }
   ],
   "source": [
    "input_data = np.array([[2.1, -1.9, 5.5],\n",
    " [-1.5, 2.4, 3.5],\n",
    " [0.5, -7.9, 5.6],\n",
    " [5.9, 2.3, -5.8]])\n",
    "data_normalized_l1 = preprocessing.normalize(input_data, norm='l1')\n",
    "print(\"\\nL1 normalized data:\\n\", data_normalized_l1)"
   ]
  },
  {
   "cell_type": "code",
   "execution_count": 3,
   "id": "f0d13650-6424-4bb7-a6d9-ca4bb5ba01b2",
   "metadata": {},
   "outputs": [
    {
     "name": "stdout",
     "output_type": "stream",
     "text": [
      "\n",
      "L2 normalized data:\n",
      " [[ 0.33946114 -0.30713151  0.88906489]\n",
      " [-0.33325106  0.53320169  0.7775858 ]\n",
      " [ 0.05156558 -0.81473612  0.57753446]\n",
      " [ 0.68706914  0.26784051 -0.6754239 ]]\n"
     ]
    }
   ],
   "source": [
    "import numpy as np\n",
    "from sklearn import preprocessing \n",
    "input_data = np.array([[2.1, -1.9, 5.5],\n",
    " [-1.5, 2.4, 3.5],\n",
    " [0.5, -7.9, 5.6],\n",
    " [5.9, 2.3, -5.8]])\n",
    "data_normalized_l2 = preprocessing.normalize(input_data, norm='l2')\n",
    "print(\"\\nL2 normalized data:\\n\", data_normalized_l2)"
   ]
  },
  {
   "cell_type": "code",
   "execution_count": null,
   "id": "1ab7e14d-589f-42e4-8d4e-155b05930ddc",
   "metadata": {},
   "outputs": [],
   "source": []
  }
 ],
 "metadata": {
  "kernelspec": {
   "display_name": "Python 3 (ipykernel)",
   "language": "python",
   "name": "python3"
  },
  "language_info": {
   "codemirror_mode": {
    "name": "ipython",
    "version": 3
   },
   "file_extension": ".py",
   "mimetype": "text/x-python",
   "name": "python",
   "nbconvert_exporter": "python",
   "pygments_lexer": "ipython3",
   "version": "3.12.3"
  }
 },
 "nbformat": 4,
 "nbformat_minor": 5
}
