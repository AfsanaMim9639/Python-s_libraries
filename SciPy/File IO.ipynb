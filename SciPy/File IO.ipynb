{
 "cells": [
  {
   "cell_type": "code",
   "execution_count": 2,
   "id": "a0549ba1-2f17-4e8d-886d-55b3f9d7ba7a",
   "metadata": {},
   "outputs": [],
   "source": [
    "import numpy as np\n",
    "import scipy.io as sio\n",
    "\n",
    "from pprint import pprint\n",
    "\n",
    "array1 = np.array([[1,2,3],[4,5,6]])\n",
    "\n",
    "array2= np.ones((5,5))\n",
    "data_dictionary ={\n",
    "    \"array1\": array1,\n",
    "    \"array2\":array2\n",
    "}\n",
    "sio.savemat(\"example.mat\", data_dictionary)"
   ]
  },
  {
   "cell_type": "code",
   "execution_count": 5,
   "id": "172b2f6a-8ce2-48f8-b9c9-ceb2b7d547ea",
   "metadata": {},
   "outputs": [
    {
     "name": "stdout",
     "output_type": "stream",
     "text": [
      "{'__header__': b'MATLAB 5.0 MAT-file Platform: nt, Created on: Thu Jul  4 04:12:32 2024', '__version__': '1.0', '__globals__': [], 'array1': array([[1, 2, 3],\n",
      "       [4, 5, 6]]), 'array2': array([[1., 1., 1., 1., 1.],\n",
      "       [1., 1., 1., 1., 1.],\n",
      "       [1., 1., 1., 1., 1.],\n",
      "       [1., 1., 1., 1., 1.],\n",
      "       [1., 1., 1., 1., 1.]])}\n",
      "array([[1, 2, 3],\n",
      "       [4, 5, 6]])\n",
      "<class 'numpy.ndarray'>\n"
     ]
    }
   ],
   "source": [
    "data=sio.loadmat(\"example.mat\")\n",
    "print(data)\n",
    "pprint(data[\"array1\"])\n",
    "print(type(data[\"array2\"]))"
   ]
  },
  {
   "cell_type": "code",
   "execution_count": 6,
   "id": "d3c1be76-9631-4515-947f-a4157dd366e6",
   "metadata": {},
   "outputs": [
    {
     "name": "stdout",
     "output_type": "stream",
     "text": [
      "[('array1', (2, 3), 'int32'), ('array2', (5, 5), 'double')]\n"
     ]
    }
   ],
   "source": [
    "data=sio.whosmat(\"example.mat\")\n",
    "print(data)"
   ]
  }
 ],
 "metadata": {
  "kernelspec": {
   "display_name": "Python 3 (ipykernel)",
   "language": "python",
   "name": "python3"
  },
  "language_info": {
   "codemirror_mode": {
    "name": "ipython",
    "version": 3
   },
   "file_extension": ".py",
   "mimetype": "text/x-python",
   "name": "python",
   "nbconvert_exporter": "python",
   "pygments_lexer": "ipython3",
   "version": "3.12.3"
  }
 },
 "nbformat": 4,
 "nbformat_minor": 5
}
