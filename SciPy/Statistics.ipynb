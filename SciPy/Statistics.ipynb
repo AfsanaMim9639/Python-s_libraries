{
 "cells": [
  {
   "cell_type": "code",
   "execution_count": 11,
   "id": "5d477264-e1e8-433a-9757-5d8b83c6e500",
   "metadata": {},
   "outputs": [
    {
     "name": "stdout",
     "output_type": "stream",
     "text": [
      "DescribeResult(nobs=7, minmax=(-1.9, 0.53), mean=-0.21857142857142858, variance=0.7109142857142857, skewness=-1.2334909463692254, kurtosis=0.2900986314811633)\n",
      "DescribeResult(nobs=7, minmax=(-1.9, 0.53), mean=-0.21857142857142858, variance=0.7109142857142857, skewness=-1.2334909463692254, kurtosis=0.2900986314811633)\n",
      "\n",
      "nobs: 7\n",
      "minmax: (-1.9, 0.53)\n",
      "mean: -0.21857142857142858\n",
      "variance: 0.7109142857142857\n",
      "skewness: -1.2334909463692254\n",
      "kurtosis: 0.2900986314811633\n"
     ]
    }
   ],
   "source": [
    "from scipy.stats import describe\n",
    "\n",
    "data = [0.2, -1.9, 0.41, -0.7, 0.03, 0.53, -0.1]\n",
    "data2=[[1,2],[3,4]]\n",
    "description = describe(data)\n",
    "print(description)\n",
    "description1 = describe(data)\n",
    "print(description1)\n",
    "\n",
    "print()\n",
    "for key, value in description._asdict().items():\n",
    "    print(f\"{key}: {value}\")"
   ]
  },
  {
   "cell_type": "code",
   "execution_count": 12,
   "id": "de07d259-c473-4087-8418-c2162c74fdeb",
   "metadata": {},
   "outputs": [
    {
     "name": "stdout",
     "output_type": "stream",
     "text": [
      "Cumulative dstribution: [0.15865525 0.30853754 0.5        0.69146246 0.84134475 0.9331928 ]\n",
      "PPF:0.0\n",
      "Sampled distribution: [-3.08818536  1.32557185  2.29649564  1.48493523 -1.01484593]\n"
     ]
    }
   ],
   "source": [
    "from scipy.stats import norm\n",
    "import numpy as np\n",
    "#mean, standard deviation\n",
    "distribution = norm(0,2)\n",
    "array=np.array([-2,-1,0.0,1,2,3])\n",
    "print(f\"Cumulative dstribution: {distribution.cdf(array)}\")\n",
    "print(f\"PPF:{distribution.ppf(0.5)}\")\n",
    "print(f\"Sampled distribution: {distribution.rvs(size=5)}\")"
   ]
  },
  {
   "cell_type": "markdown",
   "id": "2bdb10f5-8158-4f00-a9cf-eb64de095764",
   "metadata": {},
   "source": [
    "# T-Test"
   ]
  },
  {
   "cell_type": "code",
   "execution_count": 20,
   "id": "be03e200-2c2d-498c-a887-1a815ce88205",
   "metadata": {},
   "outputs": [
    {
     "name": "stdout",
     "output_type": "stream",
     "text": [
      "TtestResult(statistic=-6.249990669147964, pvalue=0.0003888729633737234, df=6)\n",
      "---------------------------\n",
      "0.0003888729633737234\n"
     ]
    }
   ],
   "source": [
    "from scipy import stats\n",
    "\n",
    "volumes =[220.1, 220.5, 221.2, 221.8, 222.5, 223.1, 223.7]\n",
    "result = stats.ttest_1samp(volumes, 225, alternative=\"less\")\n",
    "print(result)\n",
    "print(\"---------------------------\")\n",
    "print(result[1])"
   ]
  },
  {
   "cell_type": "code",
   "execution_count": null,
   "id": "2d13b514-e5ae-4996-8c42-6ec61179d2aa",
   "metadata": {},
   "outputs": [],
   "source": []
  }
 ],
 "metadata": {
  "kernelspec": {
   "display_name": "Python 3 (ipykernel)",
   "language": "python",
   "name": "python3"
  },
  "language_info": {
   "codemirror_mode": {
    "name": "ipython",
    "version": 3
   },
   "file_extension": ".py",
   "mimetype": "text/x-python",
   "name": "python",
   "nbconvert_exporter": "python",
   "pygments_lexer": "ipython3",
   "version": "3.12.3"
  }
 },
 "nbformat": 4,
 "nbformat_minor": 5
}
