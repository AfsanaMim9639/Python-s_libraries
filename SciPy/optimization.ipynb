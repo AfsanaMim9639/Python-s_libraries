{
 "cells": [
  {
   "cell_type": "markdown",
   "id": "6dd8c0e3-348d-46d3-ab43-d0c0cdef9c5d",
   "metadata": {},
   "source": [
    "# Minimize"
   ]
  },
  {
   "cell_type": "code",
   "execution_count": 13,
   "id": "de684038-2781-4a60-be4e-c649ad636d93",
   "metadata": {},
   "outputs": [
    {
     "name": "stdout",
     "output_type": "stream",
     "text": [
      " message: Optimization terminated successfully\n",
      " success: True\n",
      "  status: 0\n",
      "     fun: 9801.0000000001\n",
      "       x: [ 9.900e+01 -1.001e-05]\n",
      "     nit: 5\n",
      "     jac: [ 1.980e+02  0.000e+00]\n",
      "    nfev: 16\n",
      "    njev: 5\n"
     ]
    }
   ],
   "source": [
    "import numpy as np\n",
    "from scipy.optimize import minimize\n",
    "\n",
    "def objective(x):\n",
    "    a = x[0]\n",
    "    b = x[1]\n",
    "    return a ** 2+ b**2\n",
    "def constraint1(x):\n",
    "    a = x[0]\n",
    "    b=[1]\n",
    "    return a +b-100\n",
    "\n",
    "\n",
    "\n",
    "cons =[\n",
    "    {\n",
    "        \"type\": \"eq\",\n",
    "        \"fun\": constraint1\n",
    "    }\n",
    "]\n",
    "\n",
    "x0 = np.array([200, 500])\n",
    "solution = minimize(objective, x0, method='SLSQP', constraints=cons)\n",
    "print(solution)"
   ]
  },
  {
   "cell_type": "code",
   "execution_count": 2,
   "id": "2068866a-6c1c-4324-8664-61985c236bfc",
   "metadata": {},
   "outputs": [
    {
     "name": "stdout",
     "output_type": "stream",
     "text": [
      " message: Optimization terminated successfully\n",
      " success: True\n",
      "  status: 0\n",
      "     fun: 0.0\n",
      "       x: [ 4.000e+00  3.000e+00]\n",
      "     nit: 2\n",
      "     jac: [ 1.490e-08  1.490e-08]\n",
      "    nfev: 7\n",
      "    njev: 2\n"
     ]
    }
   ],
   "source": [
    "import numpy as np\n",
    "from scipy.optimize import minimize\n",
    "\n",
    "def objective(x):\n",
    "    a = x[0]\n",
    "    b = x[1]\n",
    "    return (a-4) ** 2+ (b-3) **2\n",
    "\n",
    "x0 = np.array([200, 500])\n",
    "solution = minimize(objective, x0, method='SLSQP')\n",
    "print(solution)"
   ]
  },
  {
   "cell_type": "code",
   "execution_count": 15,
   "id": "12c6e012-45be-4672-878f-63ee7c66c761",
   "metadata": {},
   "outputs": [
    {
     "name": "stdout",
     "output_type": "stream",
     "text": [
      " message: Optimization terminated successfully\n",
      " success: True\n",
      "  status: 0\n",
      "     fun: 200.0\n",
      "       x: [ 1.000e+01  1.000e+01]\n",
      "     nit: 2\n",
      "     jac: [ 2.000e+01  2.000e+01]\n",
      "    nfev: 6\n",
      "    njev: 2\n"
     ]
    }
   ],
   "source": [
    "import numpy as np\n",
    "from scipy.optimize import minimize\n",
    "\n",
    "def objective(x):\n",
    "    a = x[0]\n",
    "    b = x[1]\n",
    "    return a ** 2+ b**2\n",
    "bound = np.array([10, 50])\n",
    "bounds=(bound, bound)\n",
    "x0 = np.array([200, 500])\n",
    "solution = minimize(objective, x0, method='SLSQP', bounds=bounds)\n",
    "print(solution)"
   ]
  },
  {
   "cell_type": "code",
   "execution_count": null,
   "id": "5b2bb185-81ba-4120-b232-a1207453c2d9",
   "metadata": {},
   "outputs": [],
   "source": []
  }
 ],
 "metadata": {
  "kernelspec": {
   "display_name": "Python 3 (ipykernel)",
   "language": "python",
   "name": "python3"
  },
  "language_info": {
   "codemirror_mode": {
    "name": "ipython",
    "version": 3
   },
   "file_extension": ".py",
   "mimetype": "text/x-python",
   "name": "python",
   "nbconvert_exporter": "python",
   "pygments_lexer": "ipython3",
   "version": "3.12.3"
  }
 },
 "nbformat": 4,
 "nbformat_minor": 5
}
