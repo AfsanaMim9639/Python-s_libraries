{
 "cells": [
  {
   "cell_type": "code",
   "execution_count": 5,
   "id": "c190b926-7ecb-482b-b532-db7069bb2197",
   "metadata": {},
   "outputs": [
    {
     "name": "stdout",
     "output_type": "stream",
     "text": [
      "Cube roots:  [4. 5. 9.]\n",
      "Exp10:  [0.04890051 0.01304838]\n",
      "Combinations:  120.0\n",
      "Permutations:  720.0\n",
      "Logsumxp:  4.440189698561196\n",
      "W(1):  (0.5671432904097838+0j)\n"
     ]
    }
   ],
   "source": [
    "import numpy as np\n",
    "import scipy.special as special\n",
    "#Computes the cube root of each element\n",
    "print(\"Cube roots: \", special.cbrt(np.array([64, 125, 729])))\n",
    "\n",
    "#computes 10** x\n",
    "print(\"Exp10: \", special.exp1([2,3]))\n",
    "print(\"Combinations: \", special.comb(10, 3))\n",
    "print(\"Permutations: \", special.perm(10, 3))\n",
    "print(\"Logsumxp: \", special.logsumexp([1,2, 3,4]))\n",
    "print(\"W(1): \", special.lambertw(1))\n"
   ]
  }
 ],
 "metadata": {
  "kernelspec": {
   "display_name": "Python 3 (ipykernel)",
   "language": "python",
   "name": "python3"
  },
  "language_info": {
   "codemirror_mode": {
    "name": "ipython",
    "version": 3
   },
   "file_extension": ".py",
   "mimetype": "text/x-python",
   "name": "python",
   "nbconvert_exporter": "python",
   "pygments_lexer": "ipython3",
   "version": "3.12.3"
  }
 },
 "nbformat": 4,
 "nbformat_minor": 5
}
