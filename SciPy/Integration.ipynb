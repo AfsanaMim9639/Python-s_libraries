{
 "cells": [
  {
   "cell_type": "code",
   "execution_count": 3,
   "id": "2888ae92-fe68-4982-b13a-a23fb9b272fb",
   "metadata": {},
   "outputs": [
    {
     "name": "stdout",
     "output_type": "stream",
     "text": [
      "Area: 0.9999999999999999\n",
      "Error: 1.1102230246251564e-14\n"
     ]
    }
   ],
   "source": [
    "import math\n",
    "from scipy.integrate import quad\n",
    "\n",
    "def f(x: float) -> float:\n",
    "    return math.sin(x)\n",
    "area, error = quad(f, 0, math.pi/2)\n",
    "print(f\"Area: {area}\")\n",
    "print(f\"Error: {error}\")"
   ]
  },
  {
   "cell_type": "markdown",
   "id": "449ef3d6-1360-412d-8dc6-de1b16df7a74",
   "metadata": {},
   "source": [
    "# Double Integration"
   ]
  },
  {
   "cell_type": "code",
   "execution_count": 5,
   "id": "ce84893e-8a60-4cf6-a1bd-c86981b467b4",
   "metadata": {},
   "outputs": [
    {
     "name": "stdout",
     "output_type": "stream",
     "text": [
      "Area: 8333.333333333334\n",
      "Error: 9.251858538542972e-11\n"
     ]
    }
   ],
   "source": [
    "import math\n",
    "from scipy.integrate import dblquad\n",
    "def f(x, y):\n",
    "    return x ** 2 + y ** 2\n",
    "area, error = dblquad(f, -5, 5, -10, 10)\n",
    "print(f\"Area: {area}\")\n",
    "print(f\"Error: {error}\")"
   ]
  },
  {
   "cell_type": "code",
   "execution_count": null,
   "id": "d4279f06-b120-4c7f-9878-4f1575267d14",
   "metadata": {},
   "outputs": [],
   "source": []
  }
 ],
 "metadata": {
  "kernelspec": {
   "display_name": "Python 3 (ipykernel)",
   "language": "python",
   "name": "python3"
  },
  "language_info": {
   "codemirror_mode": {
    "name": "ipython",
    "version": 3
   },
   "file_extension": ".py",
   "mimetype": "text/x-python",
   "name": "python",
   "nbconvert_exporter": "python",
   "pygments_lexer": "ipython3",
   "version": "3.12.3"
  }
 },
 "nbformat": 4,
 "nbformat_minor": 5
}
