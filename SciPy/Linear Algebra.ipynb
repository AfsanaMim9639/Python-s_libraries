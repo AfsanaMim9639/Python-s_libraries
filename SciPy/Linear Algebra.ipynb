{
 "cells": [
  {
   "cell_type": "code",
   "execution_count": 4,
   "id": "304b5b7c-1065-43c9-a6a6-a4f5b894e5ca",
   "metadata": {},
   "outputs": [
    {
     "name": "stdout",
     "output_type": "stream",
     "text": [
      "Solution:  [2. 1.]\n",
      "Numpy Array\n",
      "[[1 2 3]\n",
      " [4 5 6]\n",
      " [8 8 9]]\n",
      "\n",
      "Determinant:  -3.0\n",
      "\n",
      "Inverse: \n",
      "[[ 1.         -2.          1.        ]\n",
      " [-4.          5.         -2.        ]\n",
      " [ 2.66666667 -2.66666667  1.        ]]\n",
      "\n",
      "Matrix - inverse product:\n",
      "[[1. 0. 0.]\n",
      " [0. 1. 0.]\n",
      " [0. 0. 1.]]\n",
      "\n",
      "[ 3.+0.j -1.+0.j  3.+0.j]\n",
      "[[ 0.70710678  0.70710678  0.        ]\n",
      " [-0.70710678  0.70710678  0.        ]\n",
      " [ 0.          0.          1.        ]]\n",
      "[[0. 0. 0.]\n",
      " [0. 0. 0.]\n",
      " [0. 0. 0.]]\n"
     ]
    }
   ],
   "source": [
    "import numpy as np\n",
    "import scipy.linalg as linalg\n",
    "\n",
    "a =np.array([[3,4], [2,5]])\n",
    "b= np.array([10,9])\n",
    "print(\"Solution: \", linalg.solve(a,b))\n",
    "\n",
    "array =np.array([[1,2,3],[4,5,6], [8,8,9]])\n",
    "\n",
    "print(\"Numpy Array\")\n",
    "print(array)\n",
    "print()\n",
    "\n",
    "determinant = linalg.det(array)\n",
    "print(\"Determinant: \", determinant)\n",
    "print()\n",
    "\n",
    "inverse_array = linalg.inv(array)\n",
    "print(\"Inverse: \")\n",
    "print(inverse_array)\n",
    "print()\n",
    "print(\"Matrix - inverse product:\")\n",
    "print(array @ inverse_array)\n",
    "print()\n",
    "\n",
    "array2 =np.array([[1,-2,0], [-2,1,0],[0,0,3]])\n",
    "\n",
    "eg_val, eg_vec = linalg.eig(array2)\n",
    "print(eg_val)\n",
    "print(eg_vec)\n",
    "\n",
    "P= eg_vec\n",
    "P_inverse=linalg.inv(eg_vec)\n",
    "\n",
    "D=[]\n",
    "for index, eg_value in enumerate(eg_val):\n",
    "    row = np.zeros((3))\n",
    "    D.append(row)\n",
    "D=np.array(D)\n",
    "\n",
    "print(P @ D @ P_inverse)\n"
   ]
  }
 ],
 "metadata": {
  "kernelspec": {
   "display_name": "Python 3 (ipykernel)",
   "language": "python",
   "name": "python3"
  },
  "language_info": {
   "codemirror_mode": {
    "name": "ipython",
    "version": 3
   },
   "file_extension": ".py",
   "mimetype": "text/x-python",
   "name": "python",
   "nbconvert_exporter": "python",
   "pygments_lexer": "ipython3",
   "version": "3.12.3"
  }
 },
 "nbformat": 4,
 "nbformat_minor": 5
}
